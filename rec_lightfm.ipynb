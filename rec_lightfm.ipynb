{
  "cells": [
    {
      "cell_type": "markdown",
      "metadata": {
        "id": "view-in-github",
        "colab_type": "text"
      },
      "source": [
        "<a href=\"https://colab.research.google.com/github/Nekhaenko/test/blob/main/rec_lightfm.ipynb\" target=\"_parent\"><img src=\"https://colab.research.google.com/assets/colab-badge.svg\" alt=\"Open In Colab\"/></a>"
      ]
    },
    {
      "cell_type": "markdown",
      "metadata": {
        "id": "1Os2A8Ac4fJn"
      },
      "source": [
        "## Recommendation in Python: LighFM"
      ]
    },
    {
      "cell_type": "code",
      "source": [
        "pip install lightfm"
      ],
      "metadata": {
        "id": "7E0tIkNt5QCq",
        "colab": {
          "base_uri": "https://localhost:8080/"
        },
        "outputId": "2301b1ed-97d5-4998-ac44-4eb3a3c65d50"
      },
      "execution_count": null,
      "outputs": [
        {
          "output_type": "stream",
          "name": "stdout",
          "text": [
            "Requirement already satisfied: lightfm in /usr/local/lib/python3.7/dist-packages (1.16)\n",
            "Requirement already satisfied: requests in /usr/local/lib/python3.7/dist-packages (from lightfm) (2.23.0)\n",
            "Requirement already satisfied: scikit-learn in /usr/local/lib/python3.7/dist-packages (from lightfm) (1.0.2)\n",
            "Requirement already satisfied: numpy in /usr/local/lib/python3.7/dist-packages (from lightfm) (1.21.5)\n",
            "Requirement already satisfied: scipy>=0.17.0 in /usr/local/lib/python3.7/dist-packages (from lightfm) (1.4.1)\n",
            "Requirement already satisfied: certifi>=2017.4.17 in /usr/local/lib/python3.7/dist-packages (from requests->lightfm) (2021.10.8)\n",
            "Requirement already satisfied: chardet<4,>=3.0.2 in /usr/local/lib/python3.7/dist-packages (from requests->lightfm) (3.0.4)\n",
            "Requirement already satisfied: idna<3,>=2.5 in /usr/local/lib/python3.7/dist-packages (from requests->lightfm) (2.10)\n",
            "Requirement already satisfied: urllib3!=1.25.0,!=1.25.1,<1.26,>=1.21.1 in /usr/local/lib/python3.7/dist-packages (from requests->lightfm) (1.24.3)\n",
            "Requirement already satisfied: joblib>=0.11 in /usr/local/lib/python3.7/dist-packages (from scikit-learn->lightfm) (1.1.0)\n",
            "Requirement already satisfied: threadpoolctl>=2.0.0 in /usr/local/lib/python3.7/dist-packages (from scikit-learn->lightfm) (3.1.0)\n"
          ]
        }
      ]
    },
    {
      "cell_type": "code",
      "source": [
        "pip install scikit-optimize"
      ],
      "metadata": {
        "id": "feJ4vYKR54ww",
        "colab": {
          "base_uri": "https://localhost:8080/"
        },
        "outputId": "a89bfda9-0cfe-4f74-a1c6-0b2e95857031"
      },
      "execution_count": null,
      "outputs": [
        {
          "output_type": "stream",
          "name": "stdout",
          "text": [
            "Requirement already satisfied: scikit-optimize in /usr/local/lib/python3.7/dist-packages (0.9.0)\n",
            "Requirement already satisfied: numpy>=1.13.3 in /usr/local/lib/python3.7/dist-packages (from scikit-optimize) (1.21.5)\n",
            "Requirement already satisfied: joblib>=0.11 in /usr/local/lib/python3.7/dist-packages (from scikit-optimize) (1.1.0)\n",
            "Requirement already satisfied: scipy>=0.19.1 in /usr/local/lib/python3.7/dist-packages (from scikit-optimize) (1.4.1)\n",
            "Requirement already satisfied: scikit-learn>=0.20.0 in /usr/local/lib/python3.7/dist-packages (from scikit-optimize) (1.0.2)\n",
            "Requirement already satisfied: pyaml>=16.9 in /usr/local/lib/python3.7/dist-packages (from scikit-optimize) (21.10.1)\n",
            "Requirement already satisfied: PyYAML in /usr/local/lib/python3.7/dist-packages (from pyaml>=16.9->scikit-optimize) (3.13)\n",
            "Requirement already satisfied: threadpoolctl>=2.0.0 in /usr/local/lib/python3.7/dist-packages (from scikit-learn>=0.20.0->scikit-optimize) (3.1.0)\n"
          ]
        }
      ]
    },
    {
      "cell_type": "code",
      "execution_count": null,
      "metadata": {
        "id": "8Io_m0SQ4fJp"
      },
      "outputs": [],
      "source": [
        "# import dependent libraries\n",
        "import pandas as pd\n",
        "import os\n",
        "import pickle\n",
        "from scipy.sparse import csr_matrix\n",
        "import numpy as np\n",
        "# from IPython.display import display_html\n",
        "# import warnings\n",
        "import itertools\n",
        "# import matplotlib.pyplot as plt\n",
        "# from matplotlib.gridspec import GridSpec\n",
        "# import seaborn as sns\n",
        "# %matplotlib inline\n",
        "import math\n",
        "from lightfm.cross_validation import random_train_test_split\n",
        "from lightfm.evaluation import auc_score, precision_at_k, recall_at_k\n",
        "from lightfm import LightFM\n",
        "from skopt import forest_minimize"
      ]
    },
    {
      "cell_type": "code",
      "source": [
        "from google.colab import drive\n",
        "drive.mount('/content/drive')"
      ],
      "metadata": {
        "id": "YNT55SZf67jW",
        "colab": {
          "base_uri": "https://localhost:8080/"
        },
        "outputId": "f67d8f17-c1a9-4301-e6dc-21a90691cbb0"
      },
      "execution_count": null,
      "outputs": [
        {
          "output_type": "stream",
          "name": "stdout",
          "text": [
            "Mounted at /content/drive\n"
          ]
        }
      ]
    },
    {
      "cell_type": "code",
      "source": [
        "folder = '/content/drive/MyDrive/datasets/Mind/'"
      ],
      "metadata": {
        "id": "gZLNwV3LyZW7"
      },
      "execution_count": null,
      "outputs": []
    },
    {
      "cell_type": "code",
      "source": [
        "user_scored_answers = {'Hopeful':4, 'Happy':3, 'Coping':2}\n",
        "user_scored_answers"
      ],
      "metadata": {
        "colab": {
          "base_uri": "https://localhost:8080/"
        },
        "id": "2T4ERGsrABEh",
        "outputId": "fc3e0362-e539-4836-8141-2f79f886bd31"
      },
      "execution_count": null,
      "outputs": [
        {
          "output_type": "execute_result",
          "data": {
            "text/plain": [
              "{'Coping': 2, 'Happy': 3, 'Hopeful': 4}"
            ]
          },
          "metadata": {},
          "execution_count": 2
        }
      ]
    },
    {
      "cell_type": "code",
      "execution_count": null,
      "metadata": {
        "id": "s6KLyWfG4fJv"
      },
      "outputs": [],
      "source": [
        "# -------------------создание-таблицы-вопросов-с-рейтингами------------------------"
      ]
    },
    {
      "cell_type": "code",
      "source": [
        "questions = {'low': [('What ideas have you got on how to improve your wellbeing in <replace>?', 1.1),\n",
        "                     ('What wellbeing goal can we set for you this week/month? How are you going to get there? How will you know you are on track to reach this goal?', 1.4),\n",
        "                     ('Is there anyone else we need to talk to about this problem?', 1.8),\n",
        "                     ('What is the main threat to your wellbeing in <replace>?', 2.1),\n",
        "                     ('Why have you scored yourself so low in this <replace>?', 2.6),\n",
        "                     ('If you had a friend that rated them similar in <replace> what strategies would you recommend?', 2.9)],\n",
        "             'medium': [('What can you do to improve your score in this <replace>?', 3.1),\n",
        "                        ('Wha best could help you to improve in <replace>?', 3.4),\n",
        "                        ('What wellbeing goal can we set for you this week/month? How are you going to get there? How will you know you are on track to reach this goal?', 3.8)],\n",
        "             'high': [('What wellbeing goal can we set for you this week/month? How are you going to get there? How will you know you are on track to reach this goal?', 4.1),\n",
        "                      ('How would you like me to help you maintain in <replace>?', 4.4),\n",
        "                      ('How can you maintain a high wellbeing score in <replace>?', 4.7),\n",
        "                      ('Who could best help you to maintain a high wellbeing score?', 4.9)]}\n",
        "\n",
        "# questions"
      ],
      "metadata": {
        "id": "uSIgCjiew3Kl"
      },
      "execution_count": null,
      "outputs": []
    },
    {
      "cell_type": "code",
      "source": [
        "cols = ['question', 'level']\n",
        "df = pd.DataFrame(columns=cols)\n",
        "k=0\n",
        "for i in questions:\n",
        "  for qi in questions[i]:\n",
        "    df.loc[k] = [qi[0], i]\n",
        "    k += 1\n",
        "\n",
        "# df"
      ],
      "metadata": {
        "id": "rLm0ysES0ZDr"
      },
      "execution_count": null,
      "outputs": []
    },
    {
      "cell_type": "code",
      "source": [
        "priority = ['Hopeful', 'Happy', 'Coping', 'Accepted', 'Safe', 'Healthy']\n",
        "questions = pd.DataFrame()\n",
        "for pri in priority:\n",
        "    tmp = df.copy()\n",
        "    tmp['question'] = tmp['question'].str.replace('<replace>', pri.lower())\n",
        "    tmp['type'] = pri\n",
        "    questions = pd.concat([questions, tmp], ignore_index=True)\n"
      ],
      "metadata": {
        "id": "2GA-0apROIKZ"
      },
      "execution_count": null,
      "outputs": []
    },
    {
      "cell_type": "code",
      "source": [
        "# ---------Предобработка-данных-пользователя-----------------------"
      ],
      "metadata": {
        "id": "dhTuU7Kz8plc"
      },
      "execution_count": null,
      "outputs": []
    },
    {
      "cell_type": "code",
      "source": [
        "user_scored_level = {k: ('high' if v >= 4 else 'medium' if v == 3 else 'low')\n",
        "              for (k, v) in user_scored_answers.items()}"
      ],
      "metadata": {
        "id": "Xc9XgaqvAsT4"
      },
      "execution_count": null,
      "outputs": []
    },
    {
      "cell_type": "code",
      "source": [
        "import json"
      ],
      "metadata": {
        "id": "e_eFKvYQu_wd"
      },
      "execution_count": null,
      "outputs": []
    },
    {
      "cell_type": "code",
      "source": [
        "with open('/content/drive/MyDrive/datasets/Mind/config.json', 'w') as f:\n",
        "    json.dump(config, f)"
      ],
      "metadata": {
        "id": "6TKzWLQZBIVy"
      },
      "execution_count": null,
      "outputs": []
    },
    {
      "cell_type": "code",
      "source": [
        "levels = {1:'low', 2:'medium', 3:'high'}\n",
        "# config = {'levels': levels}"
      ],
      "metadata": {
        "id": "XqdBe4s82ySR"
      },
      "execution_count": null,
      "outputs": []
    },
    {
      "cell_type": "code",
      "source": [
        "# Создание-всех вариантов моделей"
      ],
      "metadata": {
        "id": "Xo-UxLZ-iQtv"
      },
      "execution_count": null,
      "outputs": []
    },
    {
      "cell_type": "code",
      "source": [
        "all_models = [[1, 2, 3], [1, 2, 3], [1, 2, 3]]\n",
        "model_inds = list(itertools.product(*all_models))\n",
        "len(model_inds)"
      ],
      "metadata": {
        "id": "7nVh-2ZC8qOU",
        "colab": {
          "base_uri": "https://localhost:8080/"
        },
        "outputId": "4beda61c-39e9-4b20-eca2-0c2273339765"
      },
      "execution_count": null,
      "outputs": [
        {
          "output_type": "execute_result",
          "data": {
            "text/plain": [
              "27"
            ]
          },
          "metadata": {},
          "execution_count": 8
        }
      ]
    },
    {
      "cell_type": "code",
      "source": [
        "models = pd.DataFrame({'combination':model_inds})"
      ],
      "metadata": {
        "id": "_8rDJFdcjaBA"
      },
      "execution_count": null,
      "outputs": []
    },
    {
      "cell_type": "code",
      "source": [
        "def check_level(x, pos):\n",
        "  x = x[pos]\n",
        "  return levels[x]"
      ],
      "metadata": {
        "id": "KwpPp12y0o-v"
      },
      "execution_count": null,
      "outputs": []
    },
    {
      "cell_type": "code",
      "source": [
        "models['Coping'] = models['combination'].apply(check_level, pos = 0)\n",
        "models['Happy'] = models['combination'].apply(check_level, pos = 1)\n",
        "models['Hopeful'] = models['combination'].apply(check_level, pos = 2)\n",
        "models['number'] = models.index"
      ],
      "metadata": {
        "id": "U0KCUsDV05ev"
      },
      "execution_count": null,
      "outputs": []
    },
    {
      "cell_type": "code",
      "source": [
        "models.head()"
      ],
      "metadata": {
        "colab": {
          "base_uri": "https://localhost:8080/",
          "height": 206
        },
        "id": "2zyxj4hu0ZOI",
        "outputId": "5c5fbba6-00ca-4387-d280-0194a3531d83"
      },
      "execution_count": null,
      "outputs": [
        {
          "output_type": "execute_result",
          "data": {
            "text/html": [
              "\n",
              "  <div id=\"df-2804b5ae-519c-4507-9926-266863346b6f\">\n",
              "    <div class=\"colab-df-container\">\n",
              "      <div>\n",
              "<style scoped>\n",
              "    .dataframe tbody tr th:only-of-type {\n",
              "        vertical-align: middle;\n",
              "    }\n",
              "\n",
              "    .dataframe tbody tr th {\n",
              "        vertical-align: top;\n",
              "    }\n",
              "\n",
              "    .dataframe thead th {\n",
              "        text-align: right;\n",
              "    }\n",
              "</style>\n",
              "<table border=\"1\" class=\"dataframe\">\n",
              "  <thead>\n",
              "    <tr style=\"text-align: right;\">\n",
              "      <th></th>\n",
              "      <th>combination</th>\n",
              "      <th>Coping</th>\n",
              "      <th>Happy</th>\n",
              "      <th>Hopeful</th>\n",
              "      <th>number</th>\n",
              "    </tr>\n",
              "  </thead>\n",
              "  <tbody>\n",
              "    <tr>\n",
              "      <th>0</th>\n",
              "      <td>(1, 1, 1)</td>\n",
              "      <td>low</td>\n",
              "      <td>low</td>\n",
              "      <td>low</td>\n",
              "      <td>0</td>\n",
              "    </tr>\n",
              "    <tr>\n",
              "      <th>1</th>\n",
              "      <td>(1, 1, 2)</td>\n",
              "      <td>low</td>\n",
              "      <td>low</td>\n",
              "      <td>medium</td>\n",
              "      <td>1</td>\n",
              "    </tr>\n",
              "    <tr>\n",
              "      <th>2</th>\n",
              "      <td>(1, 1, 3)</td>\n",
              "      <td>low</td>\n",
              "      <td>low</td>\n",
              "      <td>high</td>\n",
              "      <td>2</td>\n",
              "    </tr>\n",
              "    <tr>\n",
              "      <th>3</th>\n",
              "      <td>(1, 2, 1)</td>\n",
              "      <td>low</td>\n",
              "      <td>medium</td>\n",
              "      <td>low</td>\n",
              "      <td>3</td>\n",
              "    </tr>\n",
              "    <tr>\n",
              "      <th>4</th>\n",
              "      <td>(1, 2, 2)</td>\n",
              "      <td>low</td>\n",
              "      <td>medium</td>\n",
              "      <td>medium</td>\n",
              "      <td>4</td>\n",
              "    </tr>\n",
              "  </tbody>\n",
              "</table>\n",
              "</div>\n",
              "      <button class=\"colab-df-convert\" onclick=\"convertToInteractive('df-2804b5ae-519c-4507-9926-266863346b6f')\"\n",
              "              title=\"Convert this dataframe to an interactive table.\"\n",
              "              style=\"display:none;\">\n",
              "        \n",
              "  <svg xmlns=\"http://www.w3.org/2000/svg\" height=\"24px\"viewBox=\"0 0 24 24\"\n",
              "       width=\"24px\">\n",
              "    <path d=\"M0 0h24v24H0V0z\" fill=\"none\"/>\n",
              "    <path d=\"M18.56 5.44l.94 2.06.94-2.06 2.06-.94-2.06-.94-.94-2.06-.94 2.06-2.06.94zm-11 1L8.5 8.5l.94-2.06 2.06-.94-2.06-.94L8.5 2.5l-.94 2.06-2.06.94zm10 10l.94 2.06.94-2.06 2.06-.94-2.06-.94-.94-2.06-.94 2.06-2.06.94z\"/><path d=\"M17.41 7.96l-1.37-1.37c-.4-.4-.92-.59-1.43-.59-.52 0-1.04.2-1.43.59L10.3 9.45l-7.72 7.72c-.78.78-.78 2.05 0 2.83L4 21.41c.39.39.9.59 1.41.59.51 0 1.02-.2 1.41-.59l7.78-7.78 2.81-2.81c.8-.78.8-2.07 0-2.86zM5.41 20L4 18.59l7.72-7.72 1.47 1.35L5.41 20z\"/>\n",
              "  </svg>\n",
              "      </button>\n",
              "      \n",
              "  <style>\n",
              "    .colab-df-container {\n",
              "      display:flex;\n",
              "      flex-wrap:wrap;\n",
              "      gap: 12px;\n",
              "    }\n",
              "\n",
              "    .colab-df-convert {\n",
              "      background-color: #E8F0FE;\n",
              "      border: none;\n",
              "      border-radius: 50%;\n",
              "      cursor: pointer;\n",
              "      display: none;\n",
              "      fill: #1967D2;\n",
              "      height: 32px;\n",
              "      padding: 0 0 0 0;\n",
              "      width: 32px;\n",
              "    }\n",
              "\n",
              "    .colab-df-convert:hover {\n",
              "      background-color: #E2EBFA;\n",
              "      box-shadow: 0px 1px 2px rgba(60, 64, 67, 0.3), 0px 1px 3px 1px rgba(60, 64, 67, 0.15);\n",
              "      fill: #174EA6;\n",
              "    }\n",
              "\n",
              "    [theme=dark] .colab-df-convert {\n",
              "      background-color: #3B4455;\n",
              "      fill: #D2E3FC;\n",
              "    }\n",
              "\n",
              "    [theme=dark] .colab-df-convert:hover {\n",
              "      background-color: #434B5C;\n",
              "      box-shadow: 0px 1px 3px 1px rgba(0, 0, 0, 0.15);\n",
              "      filter: drop-shadow(0px 1px 2px rgba(0, 0, 0, 0.3));\n",
              "      fill: #FFFFFF;\n",
              "    }\n",
              "  </style>\n",
              "\n",
              "      <script>\n",
              "        const buttonEl =\n",
              "          document.querySelector('#df-2804b5ae-519c-4507-9926-266863346b6f button.colab-df-convert');\n",
              "        buttonEl.style.display =\n",
              "          google.colab.kernel.accessAllowed ? 'block' : 'none';\n",
              "\n",
              "        async function convertToInteractive(key) {\n",
              "          const element = document.querySelector('#df-2804b5ae-519c-4507-9926-266863346b6f');\n",
              "          const dataTable =\n",
              "            await google.colab.kernel.invokeFunction('convertToInteractive',\n",
              "                                                     [key], {});\n",
              "          if (!dataTable) return;\n",
              "\n",
              "          const docLinkHtml = 'Like what you see? Visit the ' +\n",
              "            '<a target=\"_blank\" href=https://colab.research.google.com/notebooks/data_table.ipynb>data table notebook</a>'\n",
              "            + ' to learn more about interactive tables.';\n",
              "          element.innerHTML = '';\n",
              "          dataTable['output_type'] = 'display_data';\n",
              "          await google.colab.output.renderOutput(dataTable, element);\n",
              "          const docLink = document.createElement('div');\n",
              "          docLink.innerHTML = docLinkHtml;\n",
              "          element.appendChild(docLink);\n",
              "        }\n",
              "      </script>\n",
              "    </div>\n",
              "  </div>\n",
              "  "
            ],
            "text/plain": [
              "  combination Coping   Happy Hopeful  number\n",
              "0   (1, 1, 1)    low     low     low       0\n",
              "1   (1, 1, 2)    low     low  medium       1\n",
              "2   (1, 1, 3)    low     low    high       2\n",
              "3   (1, 2, 1)    low  medium     low       3\n",
              "4   (1, 2, 2)    low  medium  medium       4"
            ]
          },
          "metadata": {},
          "execution_count": 14
        }
      ]
    },
    {
      "cell_type": "code",
      "source": [
        "models.to_csv(f'{folder}models.csv', index=False)"
      ],
      "metadata": {
        "id": "xkmBiz72yHcX"
      },
      "execution_count": null,
      "outputs": []
    },
    {
      "cell_type": "markdown",
      "source": [
        "Создание списка комбинаций вопросов для рекомендаций"
      ],
      "metadata": {
        "id": "Grv8x2NCjbMn"
      }
    },
    {
      "cell_type": "code",
      "source": [
        "def remove_dupl(qq):\n",
        "  quest_len = df.shape[0]\n",
        "  w1 = math.modf(qq[1]/quest_len)\n",
        "  w2 = math.modf(qq[2]/quest_len)\n",
        "\n",
        "  w1 = round(w1[0], 5)\n",
        "  w2 = round(w2[0], 5)\n",
        "  # print(qq[0], qq[1] - quest_len, w1, w2)\n",
        "  if (qq[0] == (qq[1] - quest_len))|(w1 == w2):\n",
        "    return True\n",
        "  else:\n",
        "    return False"
      ],
      "metadata": {
        "id": "S4fHB9pxq0Vp"
      },
      "execution_count": null,
      "outputs": []
    },
    {
      "cell_type": "code",
      "source": [
        "def save_combinations(models, questions_df):\n",
        "  total_quest_comb = pd.DataFrame()\n",
        "  quest_dict_path = 'drive/MyDrive/datasets/Mind/questions_dicts/'\n",
        "  for imod in models.index:\n",
        "    quest_indexs = []\n",
        "    # print(imod)\n",
        "    user_scored_level = {'Coping': models.loc[imod,'Coping'],\n",
        "                         'Happy': models.loc[imod,'Happy'],\n",
        "                         'Hopeful': models.loc[imod,'Hopeful']}\n",
        "\n",
        "    for i in user_scored_level:\n",
        "      level = user_scored_level[i]\n",
        "      quest_list = questions_df[(questions_df['type']==i)&\n",
        "                (questions_df['level']== level)].index.tolist()\n",
        "\n",
        "      quest_indexs.append(quest_list)\n",
        "\n",
        "    indexes = list(itertools.product(*quest_indexs))\n",
        "    # print(len(indexes))\n",
        "    # for it in indexes:\n",
        "    #   if remove_dupl(it):\n",
        "    #     indexes.remove(it)\n",
        "\n",
        "    questions_list = []\n",
        "    for idx in indexes:\n",
        "      questions_tmp = questions_df.loc[list(idx), 'question'].tolist()\n",
        "      questions_tmp = '; '.join(questions_tmp)\n",
        "      questions_list.append(questions_tmp)\n",
        "\n",
        "    quest_comb = {'combinations': indexes, 'questions': questions_list}\n",
        "    quest_comb = pd.DataFrame(quest_comb)\n",
        "    # add random ratings\n",
        "    rng = np.random.default_rng(12345)\n",
        "    rints = rng.integers(low=0, high=5, size= quest_comb.shape[0])\n",
        "    quest_comb['avg_rating']= rints\n",
        "    quest_comb['quest_comb_id'] = quest_comb.index\n",
        "    quest_comb['model'] = imod\n",
        "    total_quest_comb = pd.concat([total_quest_comb, quest_comb], ignore_index=True)\n",
        "    # quest_comb.to_csv(f'{quest_dict_path}{imod}.csv', index=False)\n",
        "\n",
        "  total_quest_comb.to_csv(f'{quest_dict_path}total_quest_comb.csv', index=False)"
      ],
      "metadata": {
        "id": "zDHgWrATKLhw"
      },
      "execution_count": null,
      "outputs": []
    },
    {
      "cell_type": "code",
      "source": [
        "save_combinations(models, questions)"
      ],
      "metadata": {
        "id": "ZWvVvSOuY9I3"
      },
      "execution_count": null,
      "outputs": []
    },
    {
      "cell_type": "code",
      "source": [
        "# quest_indexs = []\n",
        "# for i in user_scored_level:\n",
        "#   level = user_scored_level[i]\n",
        "#   quest_list = questions[(questions['type']==i)&\n",
        "#             (questions['level']== level)]\n",
        "\n",
        "#   questions = quest_list['question'].tolist()\n",
        "#   questions = '; '.join(questions)\n",
        "#   quest_list = quest_list.index.tolist()\n",
        "\n",
        "#   quest_indexs.append(quest_list)\n",
        "\n",
        "# quest_indexs"
      ],
      "metadata": {
        "id": "Ill9TaQIBOZo"
      },
      "execution_count": null,
      "outputs": []
    },
    {
      "cell_type": "code",
      "source": [
        "# indexes = list(itertools.product(*quest_indexs))\n",
        "# len(indexes)"
      ],
      "metadata": {
        "id": "sNsJYoukFP7e"
      },
      "execution_count": null,
      "outputs": []
    },
    {
      "cell_type": "code",
      "source": [
        "# for it in indexes:\n",
        "#   if remove_dupl(it):\n",
        "#     indexes.remove(it)\n",
        "\n",
        "# len(indexes)"
      ],
      "metadata": {
        "id": "f3Mv4vgA2r3A"
      },
      "execution_count": null,
      "outputs": []
    },
    {
      "cell_type": "code",
      "source": [
        "# quest_comb = {'combinations': indexes}\n",
        "# quest_comb = pd.DataFrame(quest_comb)\n",
        "# # add random ratings\n",
        "# rng = np.random.default_rng(12345)\n",
        "# rints = rng.integers(low=0, high=5, size= quest_comb.shape[0])\n",
        "# quest_comb['avg_rating']= rints\n",
        "# quest_comb['quest_comb_id'] = quest_comb.index\n",
        "# quest_comb.head()"
      ],
      "metadata": {
        "id": "qVkh815gNO2o"
      },
      "execution_count": null,
      "outputs": []
    },
    {
      "cell_type": "code",
      "source": [
        "# quest_comb.to_csv(f'.csv', index=False)"
      ],
      "metadata": {
        "id": "dbN3Meenxi3J"
      },
      "execution_count": null,
      "outputs": []
    },
    {
      "cell_type": "code",
      "source": [
        "# создание тестовых пользователей с рейтингами наборов вопросов"
      ],
      "metadata": {
        "id": "eiA3kRZUeGNy"
      },
      "execution_count": null,
      "outputs": []
    },
    {
      "cell_type": "code",
      "source": [
        "interactions = {'user_id':[1, 2, 1, 2, 2], \n",
        "                'quest_comb_id':[1, 2, 3, 4, 5], \n",
        "                'rating':[3, 4, 0, 1, 2]}\n",
        "\n",
        "interactions_selected = pd.DataFrame(interactions)\n",
        "interactions_selected"
      ],
      "metadata": {
        "colab": {
          "base_uri": "https://localhost:8080/",
          "height": 206
        },
        "id": "sZgjavfYm7v_",
        "outputId": "ff94cca2-35a6-43da-f1fa-4c49efeef5a8"
      },
      "execution_count": null,
      "outputs": [
        {
          "output_type": "execute_result",
          "data": {
            "text/html": [
              "\n",
              "  <div id=\"df-bf8c5731-ca7f-41b2-b87c-7454402381b5\">\n",
              "    <div class=\"colab-df-container\">\n",
              "      <div>\n",
              "<style scoped>\n",
              "    .dataframe tbody tr th:only-of-type {\n",
              "        vertical-align: middle;\n",
              "    }\n",
              "\n",
              "    .dataframe tbody tr th {\n",
              "        vertical-align: top;\n",
              "    }\n",
              "\n",
              "    .dataframe thead th {\n",
              "        text-align: right;\n",
              "    }\n",
              "</style>\n",
              "<table border=\"1\" class=\"dataframe\">\n",
              "  <thead>\n",
              "    <tr style=\"text-align: right;\">\n",
              "      <th></th>\n",
              "      <th>user_id</th>\n",
              "      <th>quest_comb_id</th>\n",
              "      <th>rating</th>\n",
              "    </tr>\n",
              "  </thead>\n",
              "  <tbody>\n",
              "    <tr>\n",
              "      <th>0</th>\n",
              "      <td>1</td>\n",
              "      <td>1</td>\n",
              "      <td>3</td>\n",
              "    </tr>\n",
              "    <tr>\n",
              "      <th>1</th>\n",
              "      <td>2</td>\n",
              "      <td>2</td>\n",
              "      <td>4</td>\n",
              "    </tr>\n",
              "    <tr>\n",
              "      <th>2</th>\n",
              "      <td>1</td>\n",
              "      <td>3</td>\n",
              "      <td>0</td>\n",
              "    </tr>\n",
              "    <tr>\n",
              "      <th>3</th>\n",
              "      <td>2</td>\n",
              "      <td>4</td>\n",
              "      <td>1</td>\n",
              "    </tr>\n",
              "    <tr>\n",
              "      <th>4</th>\n",
              "      <td>2</td>\n",
              "      <td>5</td>\n",
              "      <td>2</td>\n",
              "    </tr>\n",
              "  </tbody>\n",
              "</table>\n",
              "</div>\n",
              "      <button class=\"colab-df-convert\" onclick=\"convertToInteractive('df-bf8c5731-ca7f-41b2-b87c-7454402381b5')\"\n",
              "              title=\"Convert this dataframe to an interactive table.\"\n",
              "              style=\"display:none;\">\n",
              "        \n",
              "  <svg xmlns=\"http://www.w3.org/2000/svg\" height=\"24px\"viewBox=\"0 0 24 24\"\n",
              "       width=\"24px\">\n",
              "    <path d=\"M0 0h24v24H0V0z\" fill=\"none\"/>\n",
              "    <path d=\"M18.56 5.44l.94 2.06.94-2.06 2.06-.94-2.06-.94-.94-2.06-.94 2.06-2.06.94zm-11 1L8.5 8.5l.94-2.06 2.06-.94-2.06-.94L8.5 2.5l-.94 2.06-2.06.94zm10 10l.94 2.06.94-2.06 2.06-.94-2.06-.94-.94-2.06-.94 2.06-2.06.94z\"/><path d=\"M17.41 7.96l-1.37-1.37c-.4-.4-.92-.59-1.43-.59-.52 0-1.04.2-1.43.59L10.3 9.45l-7.72 7.72c-.78.78-.78 2.05 0 2.83L4 21.41c.39.39.9.59 1.41.59.51 0 1.02-.2 1.41-.59l7.78-7.78 2.81-2.81c.8-.78.8-2.07 0-2.86zM5.41 20L4 18.59l7.72-7.72 1.47 1.35L5.41 20z\"/>\n",
              "  </svg>\n",
              "      </button>\n",
              "      \n",
              "  <style>\n",
              "    .colab-df-container {\n",
              "      display:flex;\n",
              "      flex-wrap:wrap;\n",
              "      gap: 12px;\n",
              "    }\n",
              "\n",
              "    .colab-df-convert {\n",
              "      background-color: #E8F0FE;\n",
              "      border: none;\n",
              "      border-radius: 50%;\n",
              "      cursor: pointer;\n",
              "      display: none;\n",
              "      fill: #1967D2;\n",
              "      height: 32px;\n",
              "      padding: 0 0 0 0;\n",
              "      width: 32px;\n",
              "    }\n",
              "\n",
              "    .colab-df-convert:hover {\n",
              "      background-color: #E2EBFA;\n",
              "      box-shadow: 0px 1px 2px rgba(60, 64, 67, 0.3), 0px 1px 3px 1px rgba(60, 64, 67, 0.15);\n",
              "      fill: #174EA6;\n",
              "    }\n",
              "\n",
              "    [theme=dark] .colab-df-convert {\n",
              "      background-color: #3B4455;\n",
              "      fill: #D2E3FC;\n",
              "    }\n",
              "\n",
              "    [theme=dark] .colab-df-convert:hover {\n",
              "      background-color: #434B5C;\n",
              "      box-shadow: 0px 1px 3px 1px rgba(0, 0, 0, 0.15);\n",
              "      filter: drop-shadow(0px 1px 2px rgba(0, 0, 0, 0.3));\n",
              "      fill: #FFFFFF;\n",
              "    }\n",
              "  </style>\n",
              "\n",
              "      <script>\n",
              "        const buttonEl =\n",
              "          document.querySelector('#df-bf8c5731-ca7f-41b2-b87c-7454402381b5 button.colab-df-convert');\n",
              "        buttonEl.style.display =\n",
              "          google.colab.kernel.accessAllowed ? 'block' : 'none';\n",
              "\n",
              "        async function convertToInteractive(key) {\n",
              "          const element = document.querySelector('#df-bf8c5731-ca7f-41b2-b87c-7454402381b5');\n",
              "          const dataTable =\n",
              "            await google.colab.kernel.invokeFunction('convertToInteractive',\n",
              "                                                     [key], {});\n",
              "          if (!dataTable) return;\n",
              "\n",
              "          const docLinkHtml = 'Like what you see? Visit the ' +\n",
              "            '<a target=\"_blank\" href=https://colab.research.google.com/notebooks/data_table.ipynb>data table notebook</a>'\n",
              "            + ' to learn more about interactive tables.';\n",
              "          element.innerHTML = '';\n",
              "          dataTable['output_type'] = 'display_data';\n",
              "          await google.colab.output.renderOutput(dataTable, element);\n",
              "          const docLink = document.createElement('div');\n",
              "          docLink.innerHTML = docLinkHtml;\n",
              "          element.appendChild(docLink);\n",
              "        }\n",
              "      </script>\n",
              "    </div>\n",
              "  </div>\n",
              "  "
            ],
            "text/plain": [
              "   user_id  quest_comb_id  rating\n",
              "0        1              1       3\n",
              "1        2              2       4\n",
              "2        1              3       0\n",
              "3        2              4       1\n",
              "4        2              5       2"
            ]
          },
          "metadata": {},
          "execution_count": 19
        }
      ]
    },
    {
      "cell_type": "code",
      "execution_count": null,
      "metadata": {
        "id": "wy1jSgkK4fJ4"
      },
      "outputs": [],
      "source": [
        "item_dict ={}\n",
        "\n",
        "for i in quest_comb.index:\n",
        "    item_dict[i] = quest_comb.loc[i,'combinations']\n",
        "\n",
        "# item_dict"
      ]
    },
    {
      "cell_type": "code",
      "source": [
        "# dummify categorical features\n",
        "quest_comb_metadata_transformed = pd.get_dummies(quest_comb, \n",
        "                                                     columns = ['avg_rating', \n",
        "                                                                # 'ratings_count'\n",
        "                                                                ])\n",
        "# quest_comb_metadata_selected_transformed\n",
        "quest_comb_metadata_transformed = quest_comb_metadata_transformed.sort_values('quest_comb_id').reset_index().drop('index', axis=1)\n",
        "quest_comb_metadata_transformed.head()"
      ],
      "metadata": {
        "colab": {
          "base_uri": "https://localhost:8080/",
          "height": 206
        },
        "id": "K35CpCystwgw",
        "outputId": "3b72fec2-710f-44bf-855c-8ef3180f9a0b"
      },
      "execution_count": null,
      "outputs": [
        {
          "output_type": "execute_result",
          "data": {
            "text/html": [
              "\n",
              "  <div id=\"df-f02b56b4-f19d-46dc-96fe-b38a0b11a697\">\n",
              "    <div class=\"colab-df-container\">\n",
              "      <div>\n",
              "<style scoped>\n",
              "    .dataframe tbody tr th:only-of-type {\n",
              "        vertical-align: middle;\n",
              "    }\n",
              "\n",
              "    .dataframe tbody tr th {\n",
              "        vertical-align: top;\n",
              "    }\n",
              "\n",
              "    .dataframe thead th {\n",
              "        text-align: right;\n",
              "    }\n",
              "</style>\n",
              "<table border=\"1\" class=\"dataframe\">\n",
              "  <thead>\n",
              "    <tr style=\"text-align: right;\">\n",
              "      <th></th>\n",
              "      <th>combinations</th>\n",
              "      <th>quest_comb_id</th>\n",
              "      <th>avg_rating_0</th>\n",
              "      <th>avg_rating_1</th>\n",
              "      <th>avg_rating_2</th>\n",
              "      <th>avg_rating_3</th>\n",
              "      <th>avg_rating_4</th>\n",
              "    </tr>\n",
              "  </thead>\n",
              "  <tbody>\n",
              "    <tr>\n",
              "      <th>0</th>\n",
              "      <td>(9, 19, 26)</td>\n",
              "      <td>0</td>\n",
              "      <td>0</td>\n",
              "      <td>0</td>\n",
              "      <td>0</td>\n",
              "      <td>1</td>\n",
              "      <td>0</td>\n",
              "    </tr>\n",
              "    <tr>\n",
              "      <th>1</th>\n",
              "      <td>(9, 19, 27)</td>\n",
              "      <td>1</td>\n",
              "      <td>0</td>\n",
              "      <td>1</td>\n",
              "      <td>0</td>\n",
              "      <td>0</td>\n",
              "      <td>0</td>\n",
              "    </tr>\n",
              "    <tr>\n",
              "      <th>2</th>\n",
              "      <td>(9, 19, 28)</td>\n",
              "      <td>2</td>\n",
              "      <td>0</td>\n",
              "      <td>0</td>\n",
              "      <td>0</td>\n",
              "      <td>1</td>\n",
              "      <td>0</td>\n",
              "    </tr>\n",
              "    <tr>\n",
              "      <th>3</th>\n",
              "      <td>(9, 19, 29)</td>\n",
              "      <td>3</td>\n",
              "      <td>0</td>\n",
              "      <td>1</td>\n",
              "      <td>0</td>\n",
              "      <td>0</td>\n",
              "      <td>0</td>\n",
              "    </tr>\n",
              "    <tr>\n",
              "      <th>4</th>\n",
              "      <td>(9, 19, 30)</td>\n",
              "      <td>4</td>\n",
              "      <td>0</td>\n",
              "      <td>1</td>\n",
              "      <td>0</td>\n",
              "      <td>0</td>\n",
              "      <td>0</td>\n",
              "    </tr>\n",
              "  </tbody>\n",
              "</table>\n",
              "</div>\n",
              "      <button class=\"colab-df-convert\" onclick=\"convertToInteractive('df-f02b56b4-f19d-46dc-96fe-b38a0b11a697')\"\n",
              "              title=\"Convert this dataframe to an interactive table.\"\n",
              "              style=\"display:none;\">\n",
              "        \n",
              "  <svg xmlns=\"http://www.w3.org/2000/svg\" height=\"24px\"viewBox=\"0 0 24 24\"\n",
              "       width=\"24px\">\n",
              "    <path d=\"M0 0h24v24H0V0z\" fill=\"none\"/>\n",
              "    <path d=\"M18.56 5.44l.94 2.06.94-2.06 2.06-.94-2.06-.94-.94-2.06-.94 2.06-2.06.94zm-11 1L8.5 8.5l.94-2.06 2.06-.94-2.06-.94L8.5 2.5l-.94 2.06-2.06.94zm10 10l.94 2.06.94-2.06 2.06-.94-2.06-.94-.94-2.06-.94 2.06-2.06.94z\"/><path d=\"M17.41 7.96l-1.37-1.37c-.4-.4-.92-.59-1.43-.59-.52 0-1.04.2-1.43.59L10.3 9.45l-7.72 7.72c-.78.78-.78 2.05 0 2.83L4 21.41c.39.39.9.59 1.41.59.51 0 1.02-.2 1.41-.59l7.78-7.78 2.81-2.81c.8-.78.8-2.07 0-2.86zM5.41 20L4 18.59l7.72-7.72 1.47 1.35L5.41 20z\"/>\n",
              "  </svg>\n",
              "      </button>\n",
              "      \n",
              "  <style>\n",
              "    .colab-df-container {\n",
              "      display:flex;\n",
              "      flex-wrap:wrap;\n",
              "      gap: 12px;\n",
              "    }\n",
              "\n",
              "    .colab-df-convert {\n",
              "      background-color: #E8F0FE;\n",
              "      border: none;\n",
              "      border-radius: 50%;\n",
              "      cursor: pointer;\n",
              "      display: none;\n",
              "      fill: #1967D2;\n",
              "      height: 32px;\n",
              "      padding: 0 0 0 0;\n",
              "      width: 32px;\n",
              "    }\n",
              "\n",
              "    .colab-df-convert:hover {\n",
              "      background-color: #E2EBFA;\n",
              "      box-shadow: 0px 1px 2px rgba(60, 64, 67, 0.3), 0px 1px 3px 1px rgba(60, 64, 67, 0.15);\n",
              "      fill: #174EA6;\n",
              "    }\n",
              "\n",
              "    [theme=dark] .colab-df-convert {\n",
              "      background-color: #3B4455;\n",
              "      fill: #D2E3FC;\n",
              "    }\n",
              "\n",
              "    [theme=dark] .colab-df-convert:hover {\n",
              "      background-color: #434B5C;\n",
              "      box-shadow: 0px 1px 3px 1px rgba(0, 0, 0, 0.15);\n",
              "      filter: drop-shadow(0px 1px 2px rgba(0, 0, 0, 0.3));\n",
              "      fill: #FFFFFF;\n",
              "    }\n",
              "  </style>\n",
              "\n",
              "      <script>\n",
              "        const buttonEl =\n",
              "          document.querySelector('#df-f02b56b4-f19d-46dc-96fe-b38a0b11a697 button.colab-df-convert');\n",
              "        buttonEl.style.display =\n",
              "          google.colab.kernel.accessAllowed ? 'block' : 'none';\n",
              "\n",
              "        async function convertToInteractive(key) {\n",
              "          const element = document.querySelector('#df-f02b56b4-f19d-46dc-96fe-b38a0b11a697');\n",
              "          const dataTable =\n",
              "            await google.colab.kernel.invokeFunction('convertToInteractive',\n",
              "                                                     [key], {});\n",
              "          if (!dataTable) return;\n",
              "\n",
              "          const docLinkHtml = 'Like what you see? Visit the ' +\n",
              "            '<a target=\"_blank\" href=https://colab.research.google.com/notebooks/data_table.ipynb>data table notebook</a>'\n",
              "            + ' to learn more about interactive tables.';\n",
              "          element.innerHTML = '';\n",
              "          dataTable['output_type'] = 'display_data';\n",
              "          await google.colab.output.renderOutput(dataTable, element);\n",
              "          const docLink = document.createElement('div');\n",
              "          docLink.innerHTML = docLinkHtml;\n",
              "          element.appendChild(docLink);\n",
              "        }\n",
              "      </script>\n",
              "    </div>\n",
              "  </div>\n",
              "  "
            ],
            "text/plain": [
              "  combinations  quest_comb_id  ...  avg_rating_3  avg_rating_4\n",
              "0  (9, 19, 26)              0  ...             1             0\n",
              "1  (9, 19, 27)              1  ...             0             0\n",
              "2  (9, 19, 28)              2  ...             1             0\n",
              "3  (9, 19, 29)              3  ...             0             0\n",
              "4  (9, 19, 30)              4  ...             0             0\n",
              "\n",
              "[5 rows x 7 columns]"
            ]
          },
          "metadata": {},
          "execution_count": 22
        }
      ]
    },
    {
      "cell_type": "code",
      "source": [
        "# convert to csr matrix\n",
        "quest_comb_metadata_csr = csr_matrix(quest_comb_metadata_transformed.drop(['quest_comb_id',\n",
        "                                                                           'combinations'\n",
        "                                                                           ], axis=1).values)\n",
        "quest_comb_metadata_csr"
      ],
      "metadata": {
        "colab": {
          "base_uri": "https://localhost:8080/"
        },
        "id": "7HRL4lSiuveE",
        "outputId": "74ce070b-aedb-40a1-cd7a-6fb3df0f2dc2"
      },
      "execution_count": null,
      "outputs": [
        {
          "output_type": "execute_result",
          "data": {
            "text/plain": [
              "<72x5 sparse matrix of type '<class 'numpy.uint8'>'\n",
              "\twith 72 stored elements in Compressed Sparse Row format>"
            ]
          },
          "metadata": {},
          "execution_count": 23
        }
      ]
    },
    {
      "cell_type": "code",
      "source": [
        "user_interaction = pd.pivot_table(interactions_selected, index='user_id', \n",
        "                                       columns='quest_comb_id', values='rating')\n",
        "\n",
        "# fill missing values with 0\n",
        "user_interaction = user_interaction.fillna(0)\n",
        "\n",
        "user_interaction.head()"
      ],
      "metadata": {
        "colab": {
          "base_uri": "https://localhost:8080/",
          "height": 143
        },
        "id": "JStTSKV8u7EH",
        "outputId": "6e7c22bf-a487-4586-e173-2702b495cf2a"
      },
      "execution_count": null,
      "outputs": [
        {
          "output_type": "execute_result",
          "data": {
            "text/html": [
              "\n",
              "  <div id=\"df-703e9d4b-7892-41ae-8845-83d1ef385f73\">\n",
              "    <div class=\"colab-df-container\">\n",
              "      <div>\n",
              "<style scoped>\n",
              "    .dataframe tbody tr th:only-of-type {\n",
              "        vertical-align: middle;\n",
              "    }\n",
              "\n",
              "    .dataframe tbody tr th {\n",
              "        vertical-align: top;\n",
              "    }\n",
              "\n",
              "    .dataframe thead th {\n",
              "        text-align: right;\n",
              "    }\n",
              "</style>\n",
              "<table border=\"1\" class=\"dataframe\">\n",
              "  <thead>\n",
              "    <tr style=\"text-align: right;\">\n",
              "      <th>quest_comb_id</th>\n",
              "      <th>1</th>\n",
              "      <th>2</th>\n",
              "      <th>3</th>\n",
              "      <th>4</th>\n",
              "      <th>5</th>\n",
              "    </tr>\n",
              "    <tr>\n",
              "      <th>user_id</th>\n",
              "      <th></th>\n",
              "      <th></th>\n",
              "      <th></th>\n",
              "      <th></th>\n",
              "      <th></th>\n",
              "    </tr>\n",
              "  </thead>\n",
              "  <tbody>\n",
              "    <tr>\n",
              "      <th>1</th>\n",
              "      <td>3.0</td>\n",
              "      <td>0.0</td>\n",
              "      <td>0.0</td>\n",
              "      <td>0.0</td>\n",
              "      <td>0.0</td>\n",
              "    </tr>\n",
              "    <tr>\n",
              "      <th>2</th>\n",
              "      <td>0.0</td>\n",
              "      <td>4.0</td>\n",
              "      <td>0.0</td>\n",
              "      <td>1.0</td>\n",
              "      <td>2.0</td>\n",
              "    </tr>\n",
              "  </tbody>\n",
              "</table>\n",
              "</div>\n",
              "      <button class=\"colab-df-convert\" onclick=\"convertToInteractive('df-703e9d4b-7892-41ae-8845-83d1ef385f73')\"\n",
              "              title=\"Convert this dataframe to an interactive table.\"\n",
              "              style=\"display:none;\">\n",
              "        \n",
              "  <svg xmlns=\"http://www.w3.org/2000/svg\" height=\"24px\"viewBox=\"0 0 24 24\"\n",
              "       width=\"24px\">\n",
              "    <path d=\"M0 0h24v24H0V0z\" fill=\"none\"/>\n",
              "    <path d=\"M18.56 5.44l.94 2.06.94-2.06 2.06-.94-2.06-.94-.94-2.06-.94 2.06-2.06.94zm-11 1L8.5 8.5l.94-2.06 2.06-.94-2.06-.94L8.5 2.5l-.94 2.06-2.06.94zm10 10l.94 2.06.94-2.06 2.06-.94-2.06-.94-.94-2.06-.94 2.06-2.06.94z\"/><path d=\"M17.41 7.96l-1.37-1.37c-.4-.4-.92-.59-1.43-.59-.52 0-1.04.2-1.43.59L10.3 9.45l-7.72 7.72c-.78.78-.78 2.05 0 2.83L4 21.41c.39.39.9.59 1.41.59.51 0 1.02-.2 1.41-.59l7.78-7.78 2.81-2.81c.8-.78.8-2.07 0-2.86zM5.41 20L4 18.59l7.72-7.72 1.47 1.35L5.41 20z\"/>\n",
              "  </svg>\n",
              "      </button>\n",
              "      \n",
              "  <style>\n",
              "    .colab-df-container {\n",
              "      display:flex;\n",
              "      flex-wrap:wrap;\n",
              "      gap: 12px;\n",
              "    }\n",
              "\n",
              "    .colab-df-convert {\n",
              "      background-color: #E8F0FE;\n",
              "      border: none;\n",
              "      border-radius: 50%;\n",
              "      cursor: pointer;\n",
              "      display: none;\n",
              "      fill: #1967D2;\n",
              "      height: 32px;\n",
              "      padding: 0 0 0 0;\n",
              "      width: 32px;\n",
              "    }\n",
              "\n",
              "    .colab-df-convert:hover {\n",
              "      background-color: #E2EBFA;\n",
              "      box-shadow: 0px 1px 2px rgba(60, 64, 67, 0.3), 0px 1px 3px 1px rgba(60, 64, 67, 0.15);\n",
              "      fill: #174EA6;\n",
              "    }\n",
              "\n",
              "    [theme=dark] .colab-df-convert {\n",
              "      background-color: #3B4455;\n",
              "      fill: #D2E3FC;\n",
              "    }\n",
              "\n",
              "    [theme=dark] .colab-df-convert:hover {\n",
              "      background-color: #434B5C;\n",
              "      box-shadow: 0px 1px 3px 1px rgba(0, 0, 0, 0.15);\n",
              "      filter: drop-shadow(0px 1px 2px rgba(0, 0, 0, 0.3));\n",
              "      fill: #FFFFFF;\n",
              "    }\n",
              "  </style>\n",
              "\n",
              "      <script>\n",
              "        const buttonEl =\n",
              "          document.querySelector('#df-703e9d4b-7892-41ae-8845-83d1ef385f73 button.colab-df-convert');\n",
              "        buttonEl.style.display =\n",
              "          google.colab.kernel.accessAllowed ? 'block' : 'none';\n",
              "\n",
              "        async function convertToInteractive(key) {\n",
              "          const element = document.querySelector('#df-703e9d4b-7892-41ae-8845-83d1ef385f73');\n",
              "          const dataTable =\n",
              "            await google.colab.kernel.invokeFunction('convertToInteractive',\n",
              "                                                     [key], {});\n",
              "          if (!dataTable) return;\n",
              "\n",
              "          const docLinkHtml = 'Like what you see? Visit the ' +\n",
              "            '<a target=\"_blank\" href=https://colab.research.google.com/notebooks/data_table.ipynb>data table notebook</a>'\n",
              "            + ' to learn more about interactive tables.';\n",
              "          element.innerHTML = '';\n",
              "          dataTable['output_type'] = 'display_data';\n",
              "          await google.colab.output.renderOutput(dataTable, element);\n",
              "          const docLink = document.createElement('div');\n",
              "          docLink.innerHTML = docLinkHtml;\n",
              "          element.appendChild(docLink);\n",
              "        }\n",
              "      </script>\n",
              "    </div>\n",
              "  </div>\n",
              "  "
            ],
            "text/plain": [
              "quest_comb_id    1    2    3    4    5\n",
              "user_id                               \n",
              "1              3.0  0.0  0.0  0.0  0.0\n",
              "2              0.0  4.0  0.0  1.0  2.0"
            ]
          },
          "metadata": {},
          "execution_count": 24
        }
      ]
    },
    {
      "cell_type": "code",
      "execution_count": null,
      "metadata": {
        "id": "A0at84Tj4fJ7",
        "colab": {
          "base_uri": "https://localhost:8080/"
        },
        "outputId": "cb7af1f9-45b0-4260-acac-c5cb922abf77"
      },
      "outputs": [
        {
          "output_type": "execute_result",
          "data": {
            "text/plain": [
              "{1: 0, 2: 1}"
            ]
          },
          "metadata": {},
          "execution_count": 25
        }
      ],
      "source": [
        "user_id = list(user_interaction.index)\n",
        "user_dict = {}\n",
        "counter = 0 \n",
        "for i in user_id:\n",
        "    user_dict[i] = counter\n",
        "    counter += 1\n",
        "\n",
        "user_dict"
      ]
    },
    {
      "cell_type": "code",
      "execution_count": null,
      "metadata": {
        "id": "H10wQ_6w4fJ8",
        "outputId": "f394f8b7-05e8-4ab0-f308-6f9197bcd074",
        "colab": {
          "base_uri": "https://localhost:8080/"
        }
      },
      "outputs": [
        {
          "output_type": "execute_result",
          "data": {
            "text/plain": [
              "<2x5 sparse matrix of type '<class 'numpy.float64'>'\n",
              "\twith 4 stored elements in Compressed Sparse Row format>"
            ]
          },
          "metadata": {},
          "execution_count": 26
        }
      ],
      "source": [
        "# convert to csr matrix\n",
        "user_interaction_csr = csr_matrix(user_interaction.values)\n",
        "user_interaction_csr"
      ]
    },
    {
      "cell_type": "code",
      "execution_count": null,
      "metadata": {
        "id": "WbrCludm4fJ9"
      },
      "outputs": [],
      "source": [
        "model = LightFM(loss='warp',\n",
        "                random_state=2016,\n",
        "                learning_rate=0.90,\n",
        "                no_components=150,\n",
        "                user_alpha=0.000005)\n",
        "\n",
        "model = model.fit(user_interaction_csr,\n",
        "                  epochs=100,\n",
        "                  num_threads=16, verbose=False)"
      ]
    },
    {
      "cell_type": "code",
      "source": [
        "with open('model.dump', 'wb') as f0:\n",
        "  pickle.dump(model, f0)"
      ],
      "metadata": {
        "id": "V99yV5gI-Cyn"
      },
      "execution_count": null,
      "outputs": []
    },
    {
      "cell_type": "code",
      "execution_count": null,
      "metadata": {
        "id": "9U52FacL4fJ-"
      },
      "outputs": [],
      "source": [
        "def sample_recommendation_user(model, interactions, user_id, user_dict, \n",
        "                               item_dict, quest_csr, threshold = 0,\n",
        "                               nrec_items = 5, show = True):\n",
        "    \n",
        "    n_users, n_items = interactions.shape\n",
        "    user_x = user_dict[user_id]\n",
        "    \n",
        "    scores = pd.Series(model.predict(user_x,\n",
        "                                     np.arange(n_items), \n",
        "                                     item_features= quest_csr))\n",
        "    \n",
        "    scores.index = interactions.columns\n",
        "    scores = list(pd.Series(scores.sort_values(ascending=False).index))\n",
        "    \n",
        "    known_items = list(pd.Series(interactions.loc[user_id,:] \\\n",
        "                                 [interactions.loc[user_id,:] > threshold].index).sort_values(ascending=False))\n",
        "    \n",
        "    scores = [x for x in scores if x not in known_items]\n",
        "    return_score_list = scores[0:nrec_items]\n",
        "    known_items = list(pd.Series(known_items).apply(lambda x: ', '.join([str(i) for i in item_dict[x]])))\n",
        "    # print(known_items)\n",
        "    scores = list(pd.Series(return_score_list).apply(lambda x: ', '.join([str(i) for i in item_dict[x]])))\n",
        "    if show == True:\n",
        "        print (\"User: \" + str(user_id))\n",
        "        # print(\"Known Likes:\")\n",
        "        # counter = 1\n",
        "        # for i in known_items:\n",
        "        #     print(str(counter) + '- ' + i)\n",
        "        #     counter+=1\n",
        "\n",
        "        print(\"\\n Recommended Items:\")\n",
        "        counter = 1\n",
        "        for i in scores:\n",
        "            print(str(counter) + '- ' + i)\n",
        "            \n",
        "            counter+=1\n",
        "            newi = i.split(', ')\n",
        "            for inew in newi:\n",
        "              # print(questions.loc[int(inew)])\n",
        "              print(questions.loc[int(inew), 'question'])"
      ]
    },
    {
      "cell_type": "code",
      "source": [
        "sample_recommendation_user(model, user_interaction, \n",
        "                           2,\n",
        "                           user_dict, item_dict, quest_comb_metadata_csr)"
      ],
      "metadata": {
        "colab": {
          "base_uri": "https://localhost:8080/"
        },
        "id": "lwymLQJRNMJ4",
        "outputId": "b2f2932f-d046-485f-bb1e-a2d79a81ab61"
      },
      "execution_count": null,
      "outputs": [
        {
          "output_type": "stream",
          "name": "stdout",
          "text": [
            "User: 2\n",
            "Known Likes:\n",
            "1- 9, 19, 31\n",
            "2- 9, 19, 30\n",
            "3- 9, 19, 28\n",
            "\n",
            " Recommended Items:\n",
            "1- 9, 19, 27\n",
            "What wellbeing goal can we set for you this week/month? How are you going to get there? How will you know you are on track to reach this goal?\n",
            "What can you do to improve your score in this happy?\n",
            "What wellbeing goal can we set for you this week/month? How are you going to get there? How will you know you are on track to reach this goal?\n",
            "2- 9, 19, 29\n",
            "What wellbeing goal can we set for you this week/month? How are you going to get there? How will you know you are on track to reach this goal?\n",
            "What can you do to improve your score in this happy?\n",
            "What is the main threat to your wellbeing in coping?\n"
          ]
        }
      ]
    },
    {
      "cell_type": "code",
      "source": [
        ""
      ],
      "metadata": {
        "id": "7j8qG2afi5OX"
      },
      "execution_count": null,
      "outputs": []
    },
    {
      "cell_type": "code",
      "source": [
        ""
      ],
      "metadata": {
        "id": "gZEJIYLD-8BN"
      },
      "execution_count": null,
      "outputs": []
    }
  ],
  "metadata": {
    "kernelspec": {
      "display_name": "Python 3",
      "name": "python3"
    },
    "language_info": {
      "name": "python"
    },
    "colab": {
      "name": "rec_lightfm",
      "provenance": [],
      "collapsed_sections": [],
      "include_colab_link": true
    }
  },
  "nbformat": 4,
  "nbformat_minor": 0
}