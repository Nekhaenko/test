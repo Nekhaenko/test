{
  "nbformat": 4,
  "nbformat_minor": 0,
  "metadata": {
    "colab": {
      "name": "Questions_RecSys.ipynb",
      "provenance": [],
      "collapsed_sections": [],
      "mount_file_id": "1ATwf8V2ZGdkzwgXKzbzf5ht_Fh3uXxm2",
      "authorship_tag": "ABX9TyMSWKOPKvbip0mDaBisEzMG"
    },
    "kernelspec": {
      "name": "python3",
      "display_name": "Python 3"
    },
    "language_info": {
      "name": "python"
    }
  },
  "cells": [
    {
      "cell_type": "code",
      "execution_count": null,
      "metadata": {
        "colab": {
          "base_uri": "https://localhost:8080/"
        },
        "id": "HR521dRAuGgA",
        "outputId": "3caa236a-b422-42d5-f8a2-a62e4fc7a106"
      },
      "outputs": [
        {
          "output_type": "stream",
          "name": "stdout",
          "text": [
            "Collecting lightfm\n",
            "  Downloading lightfm-1.16.tar.gz (310 kB)\n",
            "\u001b[?25l\r\u001b[K     |█                               | 10 kB 21.3 MB/s eta 0:00:01\r\u001b[K     |██▏                             | 20 kB 23.0 MB/s eta 0:00:01\r\u001b[K     |███▏                            | 30 kB 26.1 MB/s eta 0:00:01\r\u001b[K     |████▎                           | 40 kB 28.4 MB/s eta 0:00:01\r\u001b[K     |█████▎                          | 51 kB 3.3 MB/s eta 0:00:01\r\u001b[K     |██████▍                         | 61 kB 3.8 MB/s eta 0:00:01\r\u001b[K     |███████▍                        | 71 kB 4.4 MB/s eta 0:00:01\r\u001b[K     |████████▌                       | 81 kB 4.9 MB/s eta 0:00:01\r\u001b[K     |█████████▌                      | 92 kB 5.4 MB/s eta 0:00:01\r\u001b[K     |██████████▋                     | 102 kB 5.9 MB/s eta 0:00:01\r\u001b[K     |███████████▋                    | 112 kB 5.9 MB/s eta 0:00:01\r\u001b[K     |████████████▊                   | 122 kB 5.9 MB/s eta 0:00:01\r\u001b[K     |█████████████▊                  | 133 kB 5.9 MB/s eta 0:00:01\r\u001b[K     |██████████████▉                 | 143 kB 5.9 MB/s eta 0:00:01\r\u001b[K     |███████████████▉                | 153 kB 5.9 MB/s eta 0:00:01\r\u001b[K     |█████████████████               | 163 kB 5.9 MB/s eta 0:00:01\r\u001b[K     |██████████████████              | 174 kB 5.9 MB/s eta 0:00:01\r\u001b[K     |███████████████████             | 184 kB 5.9 MB/s eta 0:00:01\r\u001b[K     |████████████████████            | 194 kB 5.9 MB/s eta 0:00:01\r\u001b[K     |█████████████████████▏          | 204 kB 5.9 MB/s eta 0:00:01\r\u001b[K     |██████████████████████▏         | 215 kB 5.9 MB/s eta 0:00:01\r\u001b[K     |███████████████████████▎        | 225 kB 5.9 MB/s eta 0:00:01\r\u001b[K     |████████████████████████▎       | 235 kB 5.9 MB/s eta 0:00:01\r\u001b[K     |█████████████████████████▍      | 245 kB 5.9 MB/s eta 0:00:01\r\u001b[K     |██████████████████████████▍     | 256 kB 5.9 MB/s eta 0:00:01\r\u001b[K     |███████████████████████████▌    | 266 kB 5.9 MB/s eta 0:00:01\r\u001b[K     |████████████████████████████▌   | 276 kB 5.9 MB/s eta 0:00:01\r\u001b[K     |█████████████████████████████▋  | 286 kB 5.9 MB/s eta 0:00:01\r\u001b[K     |██████████████████████████████▋ | 296 kB 5.9 MB/s eta 0:00:01\r\u001b[K     |███████████████████████████████▊| 307 kB 5.9 MB/s eta 0:00:01\r\u001b[K     |████████████████████████████████| 310 kB 5.9 MB/s \n",
            "\u001b[?25hRequirement already satisfied: numpy in /usr/local/lib/python3.7/dist-packages (from lightfm) (1.21.5)\n",
            "Requirement already satisfied: scipy>=0.17.0 in /usr/local/lib/python3.7/dist-packages (from lightfm) (1.4.1)\n",
            "Requirement already satisfied: requests in /usr/local/lib/python3.7/dist-packages (from lightfm) (2.23.0)\n",
            "Requirement already satisfied: scikit-learn in /usr/local/lib/python3.7/dist-packages (from lightfm) (1.0.2)\n",
            "Requirement already satisfied: certifi>=2017.4.17 in /usr/local/lib/python3.7/dist-packages (from requests->lightfm) (2021.10.8)\n",
            "Requirement already satisfied: idna<3,>=2.5 in /usr/local/lib/python3.7/dist-packages (from requests->lightfm) (2.10)\n",
            "Requirement already satisfied: urllib3!=1.25.0,!=1.25.1,<1.26,>=1.21.1 in /usr/local/lib/python3.7/dist-packages (from requests->lightfm) (1.24.3)\n",
            "Requirement already satisfied: chardet<4,>=3.0.2 in /usr/local/lib/python3.7/dist-packages (from requests->lightfm) (3.0.4)\n",
            "Requirement already satisfied: threadpoolctl>=2.0.0 in /usr/local/lib/python3.7/dist-packages (from scikit-learn->lightfm) (3.1.0)\n",
            "Requirement already satisfied: joblib>=0.11 in /usr/local/lib/python3.7/dist-packages (from scikit-learn->lightfm) (1.1.0)\n",
            "Building wheels for collected packages: lightfm\n",
            "  Building wheel for lightfm (setup.py) ... \u001b[?25l\u001b[?25hdone\n",
            "  Created wheel for lightfm: filename=lightfm-1.16-cp37-cp37m-linux_x86_64.whl size=705355 sha256=0bc561bb2a3589ac4542f02d7958f64ce475db66e55f48a8e5c043721534c6ce\n",
            "  Stored in directory: /root/.cache/pip/wheels/f8/56/28/5772a3bd3413d65f03aa452190b00898b680b10028a1021914\n",
            "Successfully built lightfm\n",
            "Installing collected packages: lightfm\n",
            "Successfully installed lightfm-1.16\n"
          ]
        }
      ],
      "source": [
        "pip install lightfm"
      ]
    },
    {
      "cell_type": "code",
      "source": [
        "pip install scikit-optimize"
      ],
      "metadata": {
        "colab": {
          "base_uri": "https://localhost:8080/"
        },
        "id": "HYpEHLA3uR8x",
        "outputId": "0f20dfd0-5d58-4e93-ecd0-e9eb2411c495"
      },
      "execution_count": null,
      "outputs": [
        {
          "output_type": "stream",
          "name": "stdout",
          "text": [
            "Collecting scikit-optimize\n",
            "  Downloading scikit_optimize-0.9.0-py2.py3-none-any.whl (100 kB)\n",
            "\u001b[?25l\r\u001b[K     |███▎                            | 10 kB 1.9 MB/s eta 0:00:01\r\u001b[K     |██████▌                         | 20 kB 3.6 MB/s eta 0:00:01\r\u001b[K     |█████████▉                      | 30 kB 5.2 MB/s eta 0:00:01\r\u001b[K     |█████████████                   | 40 kB 6.7 MB/s eta 0:00:01\r\u001b[K     |████████████████▍               | 51 kB 8.1 MB/s eta 0:00:01\r\u001b[K     |███████████████████▋            | 61 kB 9.5 MB/s eta 0:00:01\r\u001b[K     |██████████████████████▉         | 71 kB 10.8 MB/s eta 0:00:01\r\u001b[K     |██████████████████████████▏     | 81 kB 7.1 MB/s eta 0:00:01\r\u001b[K     |█████████████████████████████▍  | 92 kB 7.8 MB/s eta 0:00:01\r\u001b[K     |████████████████████████████████| 100 kB 4.9 MB/s \n",
            "\u001b[?25hRequirement already satisfied: numpy>=1.13.3 in /usr/local/lib/python3.7/dist-packages (from scikit-optimize) (1.21.5)\n",
            "Collecting pyaml>=16.9\n",
            "  Downloading pyaml-21.10.1-py2.py3-none-any.whl (24 kB)\n",
            "Requirement already satisfied: scipy>=0.19.1 in /usr/local/lib/python3.7/dist-packages (from scikit-optimize) (1.4.1)\n",
            "Requirement already satisfied: scikit-learn>=0.20.0 in /usr/local/lib/python3.7/dist-packages (from scikit-optimize) (1.0.2)\n",
            "Requirement already satisfied: joblib>=0.11 in /usr/local/lib/python3.7/dist-packages (from scikit-optimize) (1.1.0)\n",
            "Requirement already satisfied: PyYAML in /usr/local/lib/python3.7/dist-packages (from pyaml>=16.9->scikit-optimize) (3.13)\n",
            "Requirement already satisfied: threadpoolctl>=2.0.0 in /usr/local/lib/python3.7/dist-packages (from scikit-learn>=0.20.0->scikit-optimize) (3.1.0)\n",
            "Installing collected packages: pyaml, scikit-optimize\n",
            "Successfully installed pyaml-21.10.1 scikit-optimize-0.9.0\n"
          ]
        }
      ]
    },
    {
      "cell_type": "code",
      "source": [
        "# import dependent libraries\n",
        "import pandas as pd\n",
        "import json\n",
        "import os\n",
        "import pickle\n",
        "from scipy.sparse import csr_matrix\n",
        "import numpy as np\n",
        "import itertools\n",
        "import math\n",
        "from lightfm.cross_validation import random_train_test_split\n",
        "from lightfm.evaluation import auc_score, precision_at_k, recall_at_k\n",
        "from lightfm import LightFM\n",
        "from skopt import forest_minimize"
      ],
      "metadata": {
        "id": "4P9G2LgYuT3q"
      },
      "execution_count": null,
      "outputs": []
    },
    {
      "cell_type": "code",
      "source": [
        "# folder = '/content/drive/MyDrive/datasets/Mind/'\n",
        "folder = ''"
      ],
      "metadata": {
        "id": "bPULClfHyoKQ"
      },
      "execution_count": null,
      "outputs": []
    },
    {
      "cell_type": "code",
      "source": [
        "user_scored_answers = {'Hopeful':4, 'Happy':3, 'Coping':2, \n",
        "                      #  'Accepted': 4, 'Safe':5, 'Healthy':2\n",
        "                       }\n",
        "user_scored_answers"
      ],
      "metadata": {
        "colab": {
          "base_uri": "https://localhost:8080/"
        },
        "id": "c8Gv8HGPuWs5",
        "outputId": "522eff40-8c74-4497-b031-471686436733"
      },
      "execution_count": null,
      "outputs": [
        {
          "output_type": "execute_result",
          "data": {
            "text/plain": [
              "{'Coping': 2, 'Happy': 3, 'Hopeful': 4}"
            ]
          },
          "metadata": {},
          "execution_count": 18
        }
      ]
    },
    {
      "cell_type": "code",
      "source": [
        "user_scored_level = {k: ('high' if v >= 4 else 'medium' if v == 3 else 'low')\n",
        "              for (k, v) in user_scored_answers.items()}\n",
        "\n",
        "user_scored_level"
      ],
      "metadata": {
        "colab": {
          "base_uri": "https://localhost:8080/"
        },
        "id": "mF1ez7Iwul2p",
        "outputId": "04cd7f10-d3ec-49d2-b937-da0cd592ef6b"
      },
      "execution_count": null,
      "outputs": [
        {
          "output_type": "execute_result",
          "data": {
            "text/plain": [
              "{'Coping': 'low', 'Happy': 'medium', 'Hopeful': 'high'}"
            ]
          },
          "metadata": {},
          "execution_count": 19
        }
      ]
    },
    {
      "cell_type": "code",
      "source": [
        "with open(f'{folder}config.json') as f:\n",
        "  config = json.load(f)"
      ],
      "metadata": {
        "id": "b2qUIK8-wL8M"
      },
      "execution_count": null,
      "outputs": []
    },
    {
      "cell_type": "code",
      "source": [
        "levels = config['levels']"
      ],
      "metadata": {
        "id": "VFysdk1oxYW_"
      },
      "execution_count": null,
      "outputs": []
    },
    {
      "cell_type": "code",
      "source": [
        "models = pd.read_csv(f'{folder}models.csv')\n",
        "# models.head()"
      ],
      "metadata": {
        "colab": {
          "base_uri": "https://localhost:8080/",
          "height": 206
        },
        "id": "3iWyZQ6Fxt6t",
        "outputId": "49ae5547-c324-413b-9d51-2b800f185756"
      },
      "execution_count": null,
      "outputs": [
        {
          "output_type": "execute_result",
          "data": {
            "text/html": [
              "\n",
              "  <div id=\"df-6abe4224-66ff-46e8-b166-c8128bbd333d\">\n",
              "    <div class=\"colab-df-container\">\n",
              "      <div>\n",
              "<style scoped>\n",
              "    .dataframe tbody tr th:only-of-type {\n",
              "        vertical-align: middle;\n",
              "    }\n",
              "\n",
              "    .dataframe tbody tr th {\n",
              "        vertical-align: top;\n",
              "    }\n",
              "\n",
              "    .dataframe thead th {\n",
              "        text-align: right;\n",
              "    }\n",
              "</style>\n",
              "<table border=\"1\" class=\"dataframe\">\n",
              "  <thead>\n",
              "    <tr style=\"text-align: right;\">\n",
              "      <th></th>\n",
              "      <th>combination</th>\n",
              "      <th>Coping</th>\n",
              "      <th>Happy</th>\n",
              "      <th>Hopeful</th>\n",
              "      <th>number</th>\n",
              "    </tr>\n",
              "  </thead>\n",
              "  <tbody>\n",
              "    <tr>\n",
              "      <th>0</th>\n",
              "      <td>(1, 1, 1)</td>\n",
              "      <td>low</td>\n",
              "      <td>low</td>\n",
              "      <td>low</td>\n",
              "      <td>0</td>\n",
              "    </tr>\n",
              "    <tr>\n",
              "      <th>1</th>\n",
              "      <td>(1, 1, 2)</td>\n",
              "      <td>low</td>\n",
              "      <td>low</td>\n",
              "      <td>medium</td>\n",
              "      <td>1</td>\n",
              "    </tr>\n",
              "    <tr>\n",
              "      <th>2</th>\n",
              "      <td>(1, 1, 3)</td>\n",
              "      <td>low</td>\n",
              "      <td>low</td>\n",
              "      <td>high</td>\n",
              "      <td>2</td>\n",
              "    </tr>\n",
              "    <tr>\n",
              "      <th>3</th>\n",
              "      <td>(1, 2, 1)</td>\n",
              "      <td>low</td>\n",
              "      <td>medium</td>\n",
              "      <td>low</td>\n",
              "      <td>3</td>\n",
              "    </tr>\n",
              "    <tr>\n",
              "      <th>4</th>\n",
              "      <td>(1, 2, 2)</td>\n",
              "      <td>low</td>\n",
              "      <td>medium</td>\n",
              "      <td>medium</td>\n",
              "      <td>4</td>\n",
              "    </tr>\n",
              "  </tbody>\n",
              "</table>\n",
              "</div>\n",
              "      <button class=\"colab-df-convert\" onclick=\"convertToInteractive('df-6abe4224-66ff-46e8-b166-c8128bbd333d')\"\n",
              "              title=\"Convert this dataframe to an interactive table.\"\n",
              "              style=\"display:none;\">\n",
              "        \n",
              "  <svg xmlns=\"http://www.w3.org/2000/svg\" height=\"24px\"viewBox=\"0 0 24 24\"\n",
              "       width=\"24px\">\n",
              "    <path d=\"M0 0h24v24H0V0z\" fill=\"none\"/>\n",
              "    <path d=\"M18.56 5.44l.94 2.06.94-2.06 2.06-.94-2.06-.94-.94-2.06-.94 2.06-2.06.94zm-11 1L8.5 8.5l.94-2.06 2.06-.94-2.06-.94L8.5 2.5l-.94 2.06-2.06.94zm10 10l.94 2.06.94-2.06 2.06-.94-2.06-.94-.94-2.06-.94 2.06-2.06.94z\"/><path d=\"M17.41 7.96l-1.37-1.37c-.4-.4-.92-.59-1.43-.59-.52 0-1.04.2-1.43.59L10.3 9.45l-7.72 7.72c-.78.78-.78 2.05 0 2.83L4 21.41c.39.39.9.59 1.41.59.51 0 1.02-.2 1.41-.59l7.78-7.78 2.81-2.81c.8-.78.8-2.07 0-2.86zM5.41 20L4 18.59l7.72-7.72 1.47 1.35L5.41 20z\"/>\n",
              "  </svg>\n",
              "      </button>\n",
              "      \n",
              "  <style>\n",
              "    .colab-df-container {\n",
              "      display:flex;\n",
              "      flex-wrap:wrap;\n",
              "      gap: 12px;\n",
              "    }\n",
              "\n",
              "    .colab-df-convert {\n",
              "      background-color: #E8F0FE;\n",
              "      border: none;\n",
              "      border-radius: 50%;\n",
              "      cursor: pointer;\n",
              "      display: none;\n",
              "      fill: #1967D2;\n",
              "      height: 32px;\n",
              "      padding: 0 0 0 0;\n",
              "      width: 32px;\n",
              "    }\n",
              "\n",
              "    .colab-df-convert:hover {\n",
              "      background-color: #E2EBFA;\n",
              "      box-shadow: 0px 1px 2px rgba(60, 64, 67, 0.3), 0px 1px 3px 1px rgba(60, 64, 67, 0.15);\n",
              "      fill: #174EA6;\n",
              "    }\n",
              "\n",
              "    [theme=dark] .colab-df-convert {\n",
              "      background-color: #3B4455;\n",
              "      fill: #D2E3FC;\n",
              "    }\n",
              "\n",
              "    [theme=dark] .colab-df-convert:hover {\n",
              "      background-color: #434B5C;\n",
              "      box-shadow: 0px 1px 3px 1px rgba(0, 0, 0, 0.15);\n",
              "      filter: drop-shadow(0px 1px 2px rgba(0, 0, 0, 0.3));\n",
              "      fill: #FFFFFF;\n",
              "    }\n",
              "  </style>\n",
              "\n",
              "      <script>\n",
              "        const buttonEl =\n",
              "          document.querySelector('#df-6abe4224-66ff-46e8-b166-c8128bbd333d button.colab-df-convert');\n",
              "        buttonEl.style.display =\n",
              "          google.colab.kernel.accessAllowed ? 'block' : 'none';\n",
              "\n",
              "        async function convertToInteractive(key) {\n",
              "          const element = document.querySelector('#df-6abe4224-66ff-46e8-b166-c8128bbd333d');\n",
              "          const dataTable =\n",
              "            await google.colab.kernel.invokeFunction('convertToInteractive',\n",
              "                                                     [key], {});\n",
              "          if (!dataTable) return;\n",
              "\n",
              "          const docLinkHtml = 'Like what you see? Visit the ' +\n",
              "            '<a target=\"_blank\" href=https://colab.research.google.com/notebooks/data_table.ipynb>data table notebook</a>'\n",
              "            + ' to learn more about interactive tables.';\n",
              "          element.innerHTML = '';\n",
              "          dataTable['output_type'] = 'display_data';\n",
              "          await google.colab.output.renderOutput(dataTable, element);\n",
              "          const docLink = document.createElement('div');\n",
              "          docLink.innerHTML = docLinkHtml;\n",
              "          element.appendChild(docLink);\n",
              "        }\n",
              "      </script>\n",
              "    </div>\n",
              "  </div>\n",
              "  "
            ],
            "text/plain": [
              "  combination Coping   Happy Hopeful  number\n",
              "0   (1, 1, 1)    low     low     low       0\n",
              "1   (1, 1, 2)    low     low  medium       1\n",
              "2   (1, 1, 3)    low     low    high       2\n",
              "3   (1, 2, 1)    low  medium     low       3\n",
              "4   (1, 2, 2)    low  medium  medium       4"
            ]
          },
          "metadata": {},
          "execution_count": 13
        }
      ]
    },
    {
      "cell_type": "code",
      "source": [
        "models = models[(models['Coping']==user_scored_level['Coping'])\n",
        "&(models['Happy']==user_scored_level['Happy'])\n",
        "&(models['Hopeful']==user_scored_level['Hopeful'])]"
      ],
      "metadata": {
        "colab": {
          "base_uri": "https://localhost:8080/",
          "height": 81
        },
        "id": "5VQM2lms277U",
        "outputId": "3a4effaa-12ed-4f49-d3b1-1dcd2e1d57ff"
      },
      "execution_count": null,
      "outputs": [
        {
          "output_type": "execute_result",
          "data": {
            "text/html": [
              "\n",
              "  <div id=\"df-5792207a-ad7c-42ac-b64d-d64a50feb240\">\n",
              "    <div class=\"colab-df-container\">\n",
              "      <div>\n",
              "<style scoped>\n",
              "    .dataframe tbody tr th:only-of-type {\n",
              "        vertical-align: middle;\n",
              "    }\n",
              "\n",
              "    .dataframe tbody tr th {\n",
              "        vertical-align: top;\n",
              "    }\n",
              "\n",
              "    .dataframe thead th {\n",
              "        text-align: right;\n",
              "    }\n",
              "</style>\n",
              "<table border=\"1\" class=\"dataframe\">\n",
              "  <thead>\n",
              "    <tr style=\"text-align: right;\">\n",
              "      <th></th>\n",
              "      <th>combination</th>\n",
              "      <th>Coping</th>\n",
              "      <th>Happy</th>\n",
              "      <th>Hopeful</th>\n",
              "      <th>number</th>\n",
              "    </tr>\n",
              "  </thead>\n",
              "  <tbody>\n",
              "    <tr>\n",
              "      <th>5</th>\n",
              "      <td>(1, 2, 3)</td>\n",
              "      <td>low</td>\n",
              "      <td>medium</td>\n",
              "      <td>high</td>\n",
              "      <td>5</td>\n",
              "    </tr>\n",
              "  </tbody>\n",
              "</table>\n",
              "</div>\n",
              "      <button class=\"colab-df-convert\" onclick=\"convertToInteractive('df-5792207a-ad7c-42ac-b64d-d64a50feb240')\"\n",
              "              title=\"Convert this dataframe to an interactive table.\"\n",
              "              style=\"display:none;\">\n",
              "        \n",
              "  <svg xmlns=\"http://www.w3.org/2000/svg\" height=\"24px\"viewBox=\"0 0 24 24\"\n",
              "       width=\"24px\">\n",
              "    <path d=\"M0 0h24v24H0V0z\" fill=\"none\"/>\n",
              "    <path d=\"M18.56 5.44l.94 2.06.94-2.06 2.06-.94-2.06-.94-.94-2.06-.94 2.06-2.06.94zm-11 1L8.5 8.5l.94-2.06 2.06-.94-2.06-.94L8.5 2.5l-.94 2.06-2.06.94zm10 10l.94 2.06.94-2.06 2.06-.94-2.06-.94-.94-2.06-.94 2.06-2.06.94z\"/><path d=\"M17.41 7.96l-1.37-1.37c-.4-.4-.92-.59-1.43-.59-.52 0-1.04.2-1.43.59L10.3 9.45l-7.72 7.72c-.78.78-.78 2.05 0 2.83L4 21.41c.39.39.9.59 1.41.59.51 0 1.02-.2 1.41-.59l7.78-7.78 2.81-2.81c.8-.78.8-2.07 0-2.86zM5.41 20L4 18.59l7.72-7.72 1.47 1.35L5.41 20z\"/>\n",
              "  </svg>\n",
              "      </button>\n",
              "      \n",
              "  <style>\n",
              "    .colab-df-container {\n",
              "      display:flex;\n",
              "      flex-wrap:wrap;\n",
              "      gap: 12px;\n",
              "    }\n",
              "\n",
              "    .colab-df-convert {\n",
              "      background-color: #E8F0FE;\n",
              "      border: none;\n",
              "      border-radius: 50%;\n",
              "      cursor: pointer;\n",
              "      display: none;\n",
              "      fill: #1967D2;\n",
              "      height: 32px;\n",
              "      padding: 0 0 0 0;\n",
              "      width: 32px;\n",
              "    }\n",
              "\n",
              "    .colab-df-convert:hover {\n",
              "      background-color: #E2EBFA;\n",
              "      box-shadow: 0px 1px 2px rgba(60, 64, 67, 0.3), 0px 1px 3px 1px rgba(60, 64, 67, 0.15);\n",
              "      fill: #174EA6;\n",
              "    }\n",
              "\n",
              "    [theme=dark] .colab-df-convert {\n",
              "      background-color: #3B4455;\n",
              "      fill: #D2E3FC;\n",
              "    }\n",
              "\n",
              "    [theme=dark] .colab-df-convert:hover {\n",
              "      background-color: #434B5C;\n",
              "      box-shadow: 0px 1px 3px 1px rgba(0, 0, 0, 0.15);\n",
              "      filter: drop-shadow(0px 1px 2px rgba(0, 0, 0, 0.3));\n",
              "      fill: #FFFFFF;\n",
              "    }\n",
              "  </style>\n",
              "\n",
              "      <script>\n",
              "        const buttonEl =\n",
              "          document.querySelector('#df-5792207a-ad7c-42ac-b64d-d64a50feb240 button.colab-df-convert');\n",
              "        buttonEl.style.display =\n",
              "          google.colab.kernel.accessAllowed ? 'block' : 'none';\n",
              "\n",
              "        async function convertToInteractive(key) {\n",
              "          const element = document.querySelector('#df-5792207a-ad7c-42ac-b64d-d64a50feb240');\n",
              "          const dataTable =\n",
              "            await google.colab.kernel.invokeFunction('convertToInteractive',\n",
              "                                                     [key], {});\n",
              "          if (!dataTable) return;\n",
              "\n",
              "          const docLinkHtml = 'Like what you see? Visit the ' +\n",
              "            '<a target=\"_blank\" href=https://colab.research.google.com/notebooks/data_table.ipynb>data table notebook</a>'\n",
              "            + ' to learn more about interactive tables.';\n",
              "          element.innerHTML = '';\n",
              "          dataTable['output_type'] = 'display_data';\n",
              "          await google.colab.output.renderOutput(dataTable, element);\n",
              "          const docLink = document.createElement('div');\n",
              "          docLink.innerHTML = docLinkHtml;\n",
              "          element.appendChild(docLink);\n",
              "        }\n",
              "      </script>\n",
              "    </div>\n",
              "  </div>\n",
              "  "
            ],
            "text/plain": [
              "  combination Coping   Happy Hopeful  number\n",
              "5   (1, 2, 3)    low  medium    high       5"
            ]
          },
          "metadata": {},
          "execution_count": 20
        }
      ]
    },
    {
      "cell_type": "code",
      "source": [
        "total_quest_comb = pd.read_csv(f'{folder}total_quest_comb.csv')\n",
        "model_num = models['number'].tolist()[0]\n",
        "quest_comb = total_quest_comb[total_quest_comb['model']==model_num]\n",
        "quest_comb.head()"
      ],
      "metadata": {
        "colab": {
          "base_uri": "https://localhost:8080/",
          "height": 206
        },
        "id": "lcDcqEcVy_yI",
        "outputId": "7b34c41e-d09e-4541-86e7-76000be553ec"
      },
      "execution_count": null,
      "outputs": [
        {
          "output_type": "execute_result",
          "data": {
            "text/html": [
              "\n",
              "  <div id=\"df-51c97463-06bc-4819-bc95-2c67ddaaf6ac\">\n",
              "    <div class=\"colab-df-container\">\n",
              "      <div>\n",
              "<style scoped>\n",
              "    .dataframe tbody tr th:only-of-type {\n",
              "        vertical-align: middle;\n",
              "    }\n",
              "\n",
              "    .dataframe tbody tr th {\n",
              "        vertical-align: top;\n",
              "    }\n",
              "\n",
              "    .dataframe thead th {\n",
              "        text-align: right;\n",
              "    }\n",
              "</style>\n",
              "<table border=\"1\" class=\"dataframe\">\n",
              "  <thead>\n",
              "    <tr style=\"text-align: right;\">\n",
              "      <th></th>\n",
              "      <th>combinations</th>\n",
              "      <th>questions</th>\n",
              "      <th>avg_rating</th>\n",
              "      <th>quest_comb_id</th>\n",
              "      <th>model</th>\n",
              "    </tr>\n",
              "  </thead>\n",
              "  <tbody>\n",
              "    <tr>\n",
              "      <th>630</th>\n",
              "      <td>(26, 19, 9)</td>\n",
              "      <td>What ideas have you got on how to improve your...</td>\n",
              "      <td>3</td>\n",
              "      <td>0</td>\n",
              "      <td>5</td>\n",
              "    </tr>\n",
              "    <tr>\n",
              "      <th>631</th>\n",
              "      <td>(26, 19, 10)</td>\n",
              "      <td>What ideas have you got on how to improve your...</td>\n",
              "      <td>1</td>\n",
              "      <td>1</td>\n",
              "      <td>5</td>\n",
              "    </tr>\n",
              "    <tr>\n",
              "      <th>632</th>\n",
              "      <td>(26, 19, 11)</td>\n",
              "      <td>What ideas have you got on how to improve your...</td>\n",
              "      <td>3</td>\n",
              "      <td>2</td>\n",
              "      <td>5</td>\n",
              "    </tr>\n",
              "    <tr>\n",
              "      <th>633</th>\n",
              "      <td>(26, 19, 12)</td>\n",
              "      <td>What ideas have you got on how to improve your...</td>\n",
              "      <td>1</td>\n",
              "      <td>3</td>\n",
              "      <td>5</td>\n",
              "    </tr>\n",
              "    <tr>\n",
              "      <th>634</th>\n",
              "      <td>(26, 20, 9)</td>\n",
              "      <td>What ideas have you got on how to improve your...</td>\n",
              "      <td>1</td>\n",
              "      <td>4</td>\n",
              "      <td>5</td>\n",
              "    </tr>\n",
              "  </tbody>\n",
              "</table>\n",
              "</div>\n",
              "      <button class=\"colab-df-convert\" onclick=\"convertToInteractive('df-51c97463-06bc-4819-bc95-2c67ddaaf6ac')\"\n",
              "              title=\"Convert this dataframe to an interactive table.\"\n",
              "              style=\"display:none;\">\n",
              "        \n",
              "  <svg xmlns=\"http://www.w3.org/2000/svg\" height=\"24px\"viewBox=\"0 0 24 24\"\n",
              "       width=\"24px\">\n",
              "    <path d=\"M0 0h24v24H0V0z\" fill=\"none\"/>\n",
              "    <path d=\"M18.56 5.44l.94 2.06.94-2.06 2.06-.94-2.06-.94-.94-2.06-.94 2.06-2.06.94zm-11 1L8.5 8.5l.94-2.06 2.06-.94-2.06-.94L8.5 2.5l-.94 2.06-2.06.94zm10 10l.94 2.06.94-2.06 2.06-.94-2.06-.94-.94-2.06-.94 2.06-2.06.94z\"/><path d=\"M17.41 7.96l-1.37-1.37c-.4-.4-.92-.59-1.43-.59-.52 0-1.04.2-1.43.59L10.3 9.45l-7.72 7.72c-.78.78-.78 2.05 0 2.83L4 21.41c.39.39.9.59 1.41.59.51 0 1.02-.2 1.41-.59l7.78-7.78 2.81-2.81c.8-.78.8-2.07 0-2.86zM5.41 20L4 18.59l7.72-7.72 1.47 1.35L5.41 20z\"/>\n",
              "  </svg>\n",
              "      </button>\n",
              "      \n",
              "  <style>\n",
              "    .colab-df-container {\n",
              "      display:flex;\n",
              "      flex-wrap:wrap;\n",
              "      gap: 12px;\n",
              "    }\n",
              "\n",
              "    .colab-df-convert {\n",
              "      background-color: #E8F0FE;\n",
              "      border: none;\n",
              "      border-radius: 50%;\n",
              "      cursor: pointer;\n",
              "      display: none;\n",
              "      fill: #1967D2;\n",
              "      height: 32px;\n",
              "      padding: 0 0 0 0;\n",
              "      width: 32px;\n",
              "    }\n",
              "\n",
              "    .colab-df-convert:hover {\n",
              "      background-color: #E2EBFA;\n",
              "      box-shadow: 0px 1px 2px rgba(60, 64, 67, 0.3), 0px 1px 3px 1px rgba(60, 64, 67, 0.15);\n",
              "      fill: #174EA6;\n",
              "    }\n",
              "\n",
              "    [theme=dark] .colab-df-convert {\n",
              "      background-color: #3B4455;\n",
              "      fill: #D2E3FC;\n",
              "    }\n",
              "\n",
              "    [theme=dark] .colab-df-convert:hover {\n",
              "      background-color: #434B5C;\n",
              "      box-shadow: 0px 1px 3px 1px rgba(0, 0, 0, 0.15);\n",
              "      filter: drop-shadow(0px 1px 2px rgba(0, 0, 0, 0.3));\n",
              "      fill: #FFFFFF;\n",
              "    }\n",
              "  </style>\n",
              "\n",
              "      <script>\n",
              "        const buttonEl =\n",
              "          document.querySelector('#df-51c97463-06bc-4819-bc95-2c67ddaaf6ac button.colab-df-convert');\n",
              "        buttonEl.style.display =\n",
              "          google.colab.kernel.accessAllowed ? 'block' : 'none';\n",
              "\n",
              "        async function convertToInteractive(key) {\n",
              "          const element = document.querySelector('#df-51c97463-06bc-4819-bc95-2c67ddaaf6ac');\n",
              "          const dataTable =\n",
              "            await google.colab.kernel.invokeFunction('convertToInteractive',\n",
              "                                                     [key], {});\n",
              "          if (!dataTable) return;\n",
              "\n",
              "          const docLinkHtml = 'Like what you see? Visit the ' +\n",
              "            '<a target=\"_blank\" href=https://colab.research.google.com/notebooks/data_table.ipynb>data table notebook</a>'\n",
              "            + ' to learn more about interactive tables.';\n",
              "          element.innerHTML = '';\n",
              "          dataTable['output_type'] = 'display_data';\n",
              "          await google.colab.output.renderOutput(dataTable, element);\n",
              "          const docLink = document.createElement('div');\n",
              "          docLink.innerHTML = docLinkHtml;\n",
              "          element.appendChild(docLink);\n",
              "        }\n",
              "      </script>\n",
              "    </div>\n",
              "  </div>\n",
              "  "
            ],
            "text/plain": [
              "     combinations  ... model\n",
              "630   (26, 19, 9)  ...     5\n",
              "631  (26, 19, 10)  ...     5\n",
              "632  (26, 19, 11)  ...     5\n",
              "633  (26, 19, 12)  ...     5\n",
              "634   (26, 20, 9)  ...     5\n",
              "\n",
              "[5 rows x 5 columns]"
            ]
          },
          "metadata": {},
          "execution_count": 26
        }
      ]
    },
    {
      "cell_type": "code",
      "source": [
        "interactions = {'user_id':[1, 2, 1, 2, 2], \n",
        "                'quest_comb_id':[1, 2, 3, 4, 5], \n",
        "                'rating':[3, 4, 0, 1, 2]}\n",
        "\n",
        "interactions_selected = pd.DataFrame(interactions)\n",
        "user_interaction = pd.pivot_table(interactions_selected, \n",
        "                                  index='user_id', \n",
        "                                  columns='quest_comb_id', values='rating')\n",
        "\n",
        "user_interaction = user_interaction.fillna(0)\n",
        "user_interaction_csr = csr_matrix(user_interaction.values)\n",
        "user_id = list(user_interaction.index)\n",
        "user_dict = {}\n",
        "counter = 0 \n",
        "for i in user_id:\n",
        "    user_dict[i] = counter\n",
        "    counter += 1\n"
      ],
      "metadata": {
        "id": "eTlo5DAg1x2b"
      },
      "execution_count": null,
      "outputs": []
    },
    {
      "cell_type": "code",
      "source": [
        "item_dict ={}\n",
        "\n",
        "for k, i in enumerate(quest_comb.index):\n",
        "    item_dict[k] = quest_comb.loc[i,'combinations']\n",
        "\n",
        "quest_comb_metadata_transformed = pd.get_dummies(quest_comb,\n",
        "                                                 columns = ['avg_rating'])\n",
        "\n",
        "quest_comb_metadata_csr = csr_matrix(quest_comb_metadata_transformed.drop(['quest_comb_id',\n",
        "                                                                           'combinations',\n",
        "                                                                           'questions',\n",
        "                                                                           'model'\n",
        "                                                                           ], axis=1).values)"
      ],
      "metadata": {
        "id": "W4rqPLXF2bNk"
      },
      "execution_count": null,
      "outputs": []
    },
    {
      "cell_type": "code",
      "source": [
        "model = LightFM(loss='warp',\n",
        "                random_state=2016,\n",
        "                learning_rate=0.90,\n",
        "                no_components=150,\n",
        "                user_alpha=0.000005)\n",
        "\n",
        "model = model.fit(user_interaction_csr,\n",
        "                  epochs=100,\n",
        "                  num_threads=16, verbose=False)"
      ],
      "metadata": {
        "id": "m8Wh8B3x41T2"
      },
      "execution_count": null,
      "outputs": []
    },
    {
      "cell_type": "code",
      "source": [
        "def sample_recommendation_user(model, interactions, user_id, user_dict, \n",
        "                               item_dict, quest_csr, threshold = 0,\n",
        "                               nrec_items = 5, show = True):\n",
        "    \n",
        "    n_users, n_items = interactions.shape\n",
        "    user_x = user_dict[user_id]\n",
        "    \n",
        "    scores = pd.Series(model.predict(user_x,\n",
        "                                     np.arange(n_items), \n",
        "                                     item_features= quest_csr))\n",
        "    \n",
        "    scores.index = interactions.columns\n",
        "    scores = list(pd.Series(scores.sort_values(ascending=False).index))\n",
        "    \n",
        "    known_items = list(pd.Series(interactions.loc[user_id,:] \\\n",
        "                                 [interactions.loc[user_id,:] > threshold].index).sort_values(ascending=False))\n",
        "    \n",
        "    scores = [x for x in scores if x not in known_items]\n",
        "    return_score_list = scores[0:nrec_items]\n",
        "    \n",
        "    known_items = list(pd.Series(known_items).apply(lambda x: item_dict[x]))\n",
        "    \n",
        "    scores = list(pd.Series(return_score_list).apply(lambda x: item_dict[x]))\n",
        "    if show == True:\n",
        "        print(\"User: \" + str(user_id))\n",
        "        # print(\"Known Likes:\")\n",
        "        # counter = 1\n",
        "        # for i in known_items:\n",
        "        #     print(str(counter) + '- ' + i)\n",
        "        #     counter+=1\n",
        "\n",
        "        print(\"\\n Recommended Items:\")\n",
        "        counter = 1\n",
        "        for i in scores:\n",
        "            # print(str(counter) + '- ' + i)\n",
        "            \n",
        "            counter+=1\n",
        "            quest = quest_comb[quest_comb['combinations']== i]['questions'].tolist()[0]\n",
        "            print(quest)"
      ],
      "metadata": {
        "id": "GOxw6r1X6OFu"
      },
      "execution_count": null,
      "outputs": []
    },
    {
      "cell_type": "code",
      "source": [
        "sample_recommendation_user(model, user_interaction, 2, user_dict, item_dict, quest_comb_metadata_csr)"
      ],
      "metadata": {
        "colab": {
          "base_uri": "https://localhost:8080/"
        },
        "id": "oBhlfmu76ZuQ",
        "outputId": "4f89a5d0-e9fa-491a-b7fe-d8b7e82e0bca"
      },
      "execution_count": null,
      "outputs": [
        {
          "output_type": "stream",
          "name": "stdout",
          "text": [
            "User: 2\n",
            "\n",
            " Recommended Items:\n",
            "What ideas have you got on how to improve your wellbeing in coping?; What can you do to improve your score in this happy?; How would you like me to help you maintain in hopeful?\n",
            "What ideas have you got on how to improve your wellbeing in coping?; What can you do to improve your score in this happy?; Who could best help you to maintain a high wellbeing score?\n"
          ]
        }
      ]
    },
    {
      "cell_type": "code",
      "source": [
        ""
      ],
      "metadata": {
        "id": "5jsm1C6VC-4Y"
      },
      "execution_count": null,
      "outputs": []
    }
  ]
}