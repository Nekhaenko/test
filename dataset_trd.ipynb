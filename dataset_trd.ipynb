{
  "nbformat": 4,
  "nbformat_minor": 0,
  "metadata": {
    "colab": {
      "provenance": [],
      "authorship_tag": "ABX9TyNIQ+eEXeOIph4imK01wmda",
      "include_colab_link": true
    },
    "kernelspec": {
      "name": "python3",
      "display_name": "Python 3"
    },
    "language_info": {
      "name": "python"
    }
  },
  "cells": [
    {
      "cell_type": "markdown",
      "metadata": {
        "id": "view-in-github",
        "colab_type": "text"
      },
      "source": [
        "<a href=\"https://colab.research.google.com/github/Nekhaenko/test/blob/main/dataset_trd.ipynb\" target=\"_parent\"><img src=\"https://colab.research.google.com/assets/colab-badge.svg\" alt=\"Open In Colab\"/></a>"
      ]
    },
    {
      "cell_type": "code",
      "source": [
        "pip install ta"
      ],
      "metadata": {
        "colab": {
          "base_uri": "https://localhost:8080/"
        },
        "id": "LFDJkUhhfRpa",
        "outputId": "de88ccba-6228-4fc7-f885-b36675d57b1a"
      },
      "execution_count": 2,
      "outputs": [
        {
          "output_type": "stream",
          "name": "stdout",
          "text": [
            "Collecting ta\n",
            "  Downloading ta-0.11.0.tar.gz (25 kB)\n",
            "  Preparing metadata (setup.py) ... \u001b[?25l\u001b[?25hdone\n",
            "Requirement already satisfied: numpy in /usr/local/lib/python3.11/dist-packages (from ta) (2.0.2)\n",
            "Requirement already satisfied: pandas in /usr/local/lib/python3.11/dist-packages (from ta) (2.2.2)\n",
            "Requirement already satisfied: python-dateutil>=2.8.2 in /usr/local/lib/python3.11/dist-packages (from pandas->ta) (2.9.0.post0)\n",
            "Requirement already satisfied: pytz>=2020.1 in /usr/local/lib/python3.11/dist-packages (from pandas->ta) (2025.2)\n",
            "Requirement already satisfied: tzdata>=2022.7 in /usr/local/lib/python3.11/dist-packages (from pandas->ta) (2025.2)\n",
            "Requirement already satisfied: six>=1.5 in /usr/local/lib/python3.11/dist-packages (from python-dateutil>=2.8.2->pandas->ta) (1.17.0)\n",
            "Building wheels for collected packages: ta\n",
            "  Building wheel for ta (setup.py) ... \u001b[?25l\u001b[?25hdone\n",
            "  Created wheel for ta: filename=ta-0.11.0-py3-none-any.whl size=29412 sha256=1b397732e15b16abcbd94517425bf4a1d54e8be162269988b2723f4458cb9ca4\n",
            "  Stored in directory: /root/.cache/pip/wheels/a1/d7/29/7781cc5eb9a3659d032d7d15bdd0f49d07d2b24fec29f44bc4\n",
            "Successfully built ta\n",
            "Installing collected packages: ta\n",
            "Successfully installed ta-0.11.0\n"
          ]
        }
      ]
    },
    {
      "cell_type": "code",
      "execution_count": 1,
      "metadata": {
        "colab": {
          "base_uri": "https://localhost:8080/",
          "height": 366
        },
        "id": "vYORcBAvezzB",
        "outputId": "42e97251-da01-4254-c3d6-81494cd8abd3"
      },
      "outputs": [
        {
          "output_type": "error",
          "ename": "ModuleNotFoundError",
          "evalue": "No module named 'ta'",
          "traceback": [
            "\u001b[0;31m---------------------------------------------------------------------------\u001b[0m",
            "\u001b[0;31mModuleNotFoundError\u001b[0m                       Traceback (most recent call last)",
            "\u001b[0;32m<ipython-input-1-ec70703474f3>\u001b[0m in \u001b[0;36m<cell line: 0>\u001b[0;34m()\u001b[0m\n\u001b[1;32m      1\u001b[0m \u001b[0;32mimport\u001b[0m \u001b[0mpandas\u001b[0m \u001b[0;32mas\u001b[0m \u001b[0mpd\u001b[0m\u001b[0;34m\u001b[0m\u001b[0;34m\u001b[0m\u001b[0m\n\u001b[1;32m      2\u001b[0m \u001b[0;32mimport\u001b[0m \u001b[0mnumpy\u001b[0m \u001b[0;32mas\u001b[0m \u001b[0mnp\u001b[0m\u001b[0;34m\u001b[0m\u001b[0;34m\u001b[0m\u001b[0m\n\u001b[0;32m----> 3\u001b[0;31m \u001b[0;32mfrom\u001b[0m \u001b[0mta\u001b[0m \u001b[0;32mimport\u001b[0m \u001b[0madd_all_ta_features\u001b[0m\u001b[0;34m\u001b[0m\u001b[0;34m\u001b[0m\u001b[0m\n\u001b[0m\u001b[1;32m      4\u001b[0m \u001b[0;32mfrom\u001b[0m \u001b[0mta\u001b[0m\u001b[0;34m.\u001b[0m\u001b[0mutils\u001b[0m \u001b[0;32mimport\u001b[0m \u001b[0mdropna\u001b[0m\u001b[0;34m\u001b[0m\u001b[0;34m\u001b[0m\u001b[0m\n",
            "\u001b[0;31mModuleNotFoundError\u001b[0m: No module named 'ta'",
            "",
            "\u001b[0;31m---------------------------------------------------------------------------\u001b[0;32m\nNOTE: If your import is failing due to a missing package, you can\nmanually install dependencies using either !pip or !apt.\n\nTo view examples of installing some common dependencies, click the\n\"Open Examples\" button below.\n\u001b[0;31m---------------------------------------------------------------------------\u001b[0m\n"
          ],
          "errorDetails": {
            "actions": [
              {
                "action": "open_url",
                "actionText": "Open Examples",
                "url": "/notebooks/snippets/importing_libraries.ipynb"
              }
            ]
          }
        }
      ],
      "source": [
        "import pandas as pd\n",
        "import numpy as np\n",
        "from ta import add_all_ta_features\n",
        "from ta.utils import dropna"
      ]
    },
    {
      "cell_type": "code",
      "source": [
        "def create_pump_dataset(\n",
        "    df: pd.DataFrame,\n",
        "    window_size: int = 30,\n",
        "    forecast_horizon: int = 7,\n",
        "    pump_threshold: float = 0.10\n",
        ") -> tuple[np.ndarray, np.ndarray, list]:\n",
        "    \"\"\"\n",
        "    Формирует датасет для классификации пампов:\n",
        "      - X: матрица признаков формы (n_samples, window_size * n_features)\n",
        "      - y: вектор меток (0/1)\n",
        "      - dates: список дат, соответствующих последнему дню каждого окна\n",
        "\n",
        "    Параметры:\n",
        "      df              – DataFrame с колонками ['date','open','high','low','close','volume']\n",
        "      window_size     – длина истории (N) для формирования признаков\n",
        "      forecast_horizon– горизонт прогноза (M) в днях\n",
        "      pump_threshold  – относительный порог роста цены (например, 0.10 для +10 %)\n",
        "    \"\"\"\n",
        "    # 1. Сортировка и удаление пропусков\n",
        "    df = df.sort_values('date').reset_index(drop=True)\n",
        "    df = dropna(df)  # удаляем строки с NaN, возникающие при вычислениях :contentReference[oaicite:3]{index=3}\n",
        "\n",
        "    # 2. Генерация всех стандартных TA-признаков\n",
        "    df = add_all_ta_features(\n",
        "        df, open=\"open\", high=\"high\", low=\"low\",\n",
        "        close=\"close\", volume=\"volume\", fillna=True\n",
        "    )  # включает SMA, EMA, RSI, MACD, BBANDS и др. :contentReference[oaicite:4]{index=4}\n",
        "\n",
        "    # 3. Разметка «пампа»: наличие роста ≥ pump_threshold в пределах следующих M дней\n",
        "    df['future_max'] = (\n",
        "        df['close']\n",
        "        .shift(-1)\n",
        "        .rolling(window=forecast_horizon, min_periods=1)\n",
        "        .max()\n",
        "    )\n",
        "    df['label'] = (\n",
        "        df['future_max'] >= df['close'] * (1 + pump_threshold)\n",
        "    ).astype(int)  # 1 – если условие выполнено :contentReference[oaicite:5]{index=5}\n",
        "\n",
        "    # 4. Формирование выборки через скользящее окно\n",
        "    feature_cols = [c for c in df.columns\n",
        "                    if c not in ('date', 'future_max', 'label')]\n",
        "    X, y, dates = [], [], []\n",
        "\n",
        "    # Проходим по всем возможным окнам\n",
        "    for start in range(len(df) - window_size - forecast_horizon + 1):\n",
        "        end = start + window_size\n",
        "        window = df.iloc[start:end]\n",
        "\n",
        "        X.append(window[feature_cols].values.flatten())\n",
        "        y.append(df['label'].iloc[end - 1])\n",
        "        dates.append(df['date'].iloc[end - 1])  # дата последнего дня окна\n",
        "\n",
        "    X = np.array(X)  # shape = (n_samples, window_size * n_features)\n",
        "    y = np.array(y)  # метки 0/1\n",
        "    return X, y, dates  # :contentReference[oaicite:6]{index=6}\n",
        "\n",
        "# Пример использования:\n",
        "if __name__ == \"__main__\":\n",
        "    # Загружаем CSV с колонками date,open,high,low,close,volume\n",
        "    df = pd.read_csv(\"ohlcv_data.csv\", parse_dates=[\"date\"])\n",
        "    X, y, dates = create_pump_dataset(df,\n",
        "        window_size=30,\n",
        "        forecast_horizon=7,\n",
        "        pump_threshold=0.10\n",
        "    )\n",
        "    print(\"Признаки:\", X.shape)\n",
        "    print(\"Меток '1':\", y.sum(), \"/\", len(y))"
      ],
      "metadata": {
        "id": "mLarempje9wl"
      },
      "execution_count": null,
      "outputs": []
    }
  ]
}